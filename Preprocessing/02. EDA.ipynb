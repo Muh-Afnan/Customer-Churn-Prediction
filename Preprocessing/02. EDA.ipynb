{
 "cells": [
  {
   "cell_type": "code",
   "execution_count": null,
   "id": "d72d3838",
   "metadata": {},
   "outputs": [],
   "source": [
    "import numpy as np\n",
    "import pandas as pd\n",
    "import seaborn as sns\n",
    "import matplotlib.pyplot as plt"
   ]
  },
  {
   "cell_type": "code",
   "execution_count": null,
   "id": "60ef1c7e",
   "metadata": {},
   "outputs": [],
   "source": [
    "df = pd.read_csv(\"D:\\Machine Learning Projects\\Customer Churn Prediction\\dataset\\Telco-Customer-Churn.csv\")\n",
    "df.head()\n",
    "\n",
    "df_clean = pd.read_csv(\"D:\\Machine Learning Projects\\Customer Churn Prediction\\dataset\\Telco-Customer-Churn-Cleaned.csv\")\n",
    "df_clean.head()"
   ]
  },
  {
   "cell_type": "code",
   "execution_count": null,
   "id": "b60edae5",
   "metadata": {},
   "outputs": [],
   "source": [
    "col = list(df_clean.columns)\n",
    "categorical_features = []\n",
    "numerical_features = []\n",
    "for i in col:\n",
    "    if len(df[i].unique()) > 6:\n",
    "        numerical_features.append(i)\n",
    "    else:\n",
    "        categorical_features.append(i)\n",
    "\n",
    "print(\"Categorical Features :\", *categorical_features)\n",
    "print(\"Numerical Features :\" , *numerical_features)"
   ]
  },
  {
   "cell_type": "code",
   "execution_count": null,
   "id": "32dd4eec",
   "metadata": {},
   "outputs": [],
   "source": [
    "l = list(df_clean['Churn'].value_counts())\n",
    "circle = [l[0] / sum(l) * 100,l[1] / sum(l) * 100]\n",
    "\n",
    "colors = ['Orange', \"Black\"]\n",
    "\n",
    "fig = plt.subplots(nrows = 1,ncols = 2,figsize = (20,5))\n",
    "plt.subplot(1,2,1)\n",
    "plt.pie(circle,labels = ['Not-Churn Customer','Churn Customer'],autopct = '%1.1f%%',startangle = 90,explode = (0.1,0),colors = colors,\n",
    "       wedgeprops = {'edgecolor' : 'black','linewidth': 1,'antialiased' : True})\n",
    "plt.title('Churn - Not-Churn %');\n",
    "\n",
    "plt.subplot(1,2,2)\n",
    "ax = sns.countplot(x='Churn', data = df, palette = colors,edgecolor = 'black')\n",
    "for rect in ax.patches:\n",
    "    ax.text(rect.get_x() + rect.get_width() / 2, rect.get_height() + 2, rect.get_height(), horizontalalignment='center', fontsize = 11)\n",
    "ax.set_xticklabels(['Not-Churn Customers','Churn Customers'])\n",
    "    \n",
    "plt.title('Number of Churn - Not-Churn Customers');\n",
    "plt.show()"
   ]
  },
  {
   "cell_type": "code",
   "execution_count": null,
   "id": "19a2d22a",
   "metadata": {},
   "outputs": [],
   "source": [
    "categorical_features.remove('Churn')"
   ]
  },
  {
   "cell_type": "code",
   "execution_count": null,
   "id": "841e4cd5",
   "metadata": {},
   "outputs": [],
   "source": [
    "l1 = ['gender','SeniorCitizen','Partner','Dependents'] # Customer Information\n",
    "l2 = ['PhoneService','MultipleLines','InternetService','StreamingTV','StreamingMovies',\n",
    "      'OnlineSecurity','OnlineBackup','DeviceProtection','TechSupport'] # Services Signed Up for!\n",
    "l3 = ['Contract','PaperlessBilling','PaymentMethod'] # Payment Information"
   ]
  },
  {
   "cell_type": "code",
   "execution_count": null,
   "id": "d901536b",
   "metadata": {},
   "outputs": [],
   "source": [
    "fig = plt.subplots(nrows = 2,ncols = 2,figsize = (12,5))\n",
    "for i in range(len(l1)):\n",
    "    plt.subplot(2,2,i+1)\n",
    "    ax = sns.countplot(x=l1[i],data = df,hue = \"Churn\",palette = colors,edgecolor = 'black')\n",
    "    for rect in ax.patches:\n",
    "        ax.text(rect.get_x() + rect.get_width() / 2, rect.get_height() + 2, rect.get_height(), horizontalalignment='center', fontsize = 11)\n",
    "    title = l1[i] + ' vs Churn'\n",
    "    plt.title(title);"
   ]
  },
  {
   "cell_type": "code",
   "execution_count": null,
   "id": "1c34023e",
   "metadata": {},
   "outputs": [],
   "source": [
    "fig = plt.subplots(nrows = 1,ncols = 2,figsize = (12,5))\n",
    "\n",
    "for i in range(len(l2[0:2])):\n",
    "    plt.subplot(1,2,i + 1)\n",
    "    ax = sns.countplot(x=l2[i],data = df,hue = \"Churn\",palette = colors,edgecolor = 'black')\n",
    "    for rect in ax.patches:\n",
    "        ax.text(rect.get_x() + rect.get_width() / 2, rect.get_height() + 2, rect.get_height(), horizontalalignment='center', fontsize = 11)\n",
    "    title = l2[i] + ' vs Churn'\n",
    "    plt.title(title);\n",
    "\n",
    "fig = plt.subplots(nrows = 1, ncols = 1, figsize = (6,5))\n",
    "\n",
    "plt.subplot(1,1,1)\n",
    "ax = sns.countplot(x=l2[2],data = df,hue = \"Churn\",palette = colors,edgecolor = 'black')\n",
    "for rect in ax.patches:\n",
    "    ax.text(rect.get_x() + rect.get_width() / 2, rect.get_height() + 2, rect.get_height(), horizontalalignment='center', fontsize = 11)\n",
    "title = l2[2] + ' vs Churn'\n",
    "plt.title(title);\n",
    "    \n",
    "fig = plt.subplots(nrows = 1,ncols = 2,figsize = (12,5))\n",
    "\n",
    "for i in range(len(l2[3:5])):\n",
    "    plt.subplot(1,2,i + 1)\n",
    "    ax = sns.countplot(x=l2[i + 3],data = df,hue = \"Churn\",palette = colors,edgecolor = 'black')\n",
    "    for rect in ax.patches:\n",
    "        ax.text(rect.get_x() + rect.get_width() / 2, rect.get_height() + 2, rect.get_height(), horizontalalignment='center', fontsize = 11)\n",
    "    title = l2[i + 3] + ' vs Churn'\n",
    "    plt.title(title);"
   ]
  },
  {
   "cell_type": "code",
   "execution_count": null,
   "id": "5d9f6e8a",
   "metadata": {},
   "outputs": [],
   "source": [
    "fig = plt.subplots(nrows = 2,ncols = 2,figsize = (12,10))\n",
    "for i in range(len(l2[-4:])):\n",
    "    plt.subplot(2,2,i + 1)\n",
    "    ax = sns.countplot(x=l2[-4 + i],data = df,hue = \"Churn\",palette = colors,edgecolor = 'black')\n",
    "    for rect in ax.patches:\n",
    "        ax.text(rect.get_x() + rect.get_width() / 2, rect.get_height() + 2, rect.get_height(), horizontalalignment='center', fontsize = 11)\n",
    "    title = l2[-4 + i] + ' vs Churn'\n",
    "    plt.title(title);"
   ]
  },
  {
   "cell_type": "code",
   "execution_count": null,
   "id": "65fc71c4",
   "metadata": {},
   "outputs": [],
   "source": [
    "fig = plt.subplots(nrows = 1,ncols = 3,figsize = (25,7))\n",
    "\n",
    "plt.subplot(1,3,1)\n",
    "ax = sns.countplot(x=l3[0],data = df,hue = \"Churn\",palette = colors,edgecolor = 'black')\n",
    "for rect in ax.patches:\n",
    "    ax.text(rect.get_x() + rect.get_width() / 2, rect.get_height() + 2, rect.get_height(), horizontalalignment='center', fontsize = 11)\n",
    "title = l3[0] + ' vs Churn'\n",
    "plt.title(title);\n",
    "\n",
    "plt.subplot(1,3,2)\n",
    "ax = sns.countplot(x=l3[1],data = df,hue = \"Churn\",palette = colors,edgecolor = 'black')\n",
    "for rect in ax.patches:\n",
    "    ax.text(rect.get_x() + rect.get_width() / 2, rect.get_height() + 2, rect.get_height(), horizontalalignment='center', fontsize = 11)\n",
    "title = l3[1] + ' vs Churn'\n",
    "plt.title(title);\n",
    "\n",
    "plt.subplot(1,3,3)\n",
    "ax = sns.countplot(x=l3[2],data = df,hue = \"Churn\",palette = colors,edgecolor = 'black')\n",
    "for rect in ax.patches:\n",
    "    ax.text(rect.get_x() + rect.get_width() / 2, rect.get_height() + 2, rect.get_height(), horizontalalignment='center', fontsize = 11)\n",
    "title = l3[2] + ' vs Churn'\n",
    "plt.title(title);"
   ]
  },
  {
   "cell_type": "code",
   "execution_count": null,
   "id": "454bba7c",
   "metadata": {},
   "outputs": [],
   "source": [
    "gender = df_clean[df_clean['Churn'] == 1]['gender'].value_counts()\n",
    "gender = [gender[0] / sum(gender) * 100, gender[1] / sum(gender) * 100] # Female / Male\n",
    "\n",
    "seniorcitizen = df_clean[df_clean['Churn'] == 1]['SeniorCitizen'].value_counts()\n",
    "seniorcitizen = [seniorcitizen[0] / sum(seniorcitizen) * 100,seniorcitizen[1] / sum(seniorcitizen) * 100] # No - Yes\n",
    "\n",
    "partner = df_clean[df_clean['Churn'] == 1]['Partner'].value_counts()\n",
    "partner = [partner[0] / sum(partner) * 100,partner[1] / sum(partner) * 100] # No - Yes\n",
    "\n",
    "dependents = df_clean[df_clean['Churn'] == 1]['Dependents'].value_counts()\n",
    "dependents = [dependents[0] / sum(dependents) * 100,dependents[1] / sum(dependents) * 100] # No - Yes"
   ]
  },
  {
   "cell_type": "code",
   "execution_count": null,
   "id": "41e20989",
   "metadata": {},
   "outputs": [],
   "source": [
    "ax,fig = plt.subplots(nrows = 1,ncols = 4,figsize = (15,15))\n",
    "\n",
    "plt.subplot(1,4,1)\n",
    "plt.pie(gender,labels = ['Female','Male'],autopct='%1.1f%%',startangle = 90,explode = (0.1,0),colors = colors,\n",
    "       wedgeprops = {'edgecolor' : 'black','linewidth': 1,'antialiased' : True})\n",
    "plt.title('Gender');\n",
    "\n",
    "plt.subplot(1,4,2)\n",
    "plt.pie(seniorcitizen,labels = ['No', 'Yes'],autopct='%1.1f%%',startangle = 90,explode = (0,0.1),colors = colors,\n",
    "       wedgeprops = {'edgecolor' : 'black','linewidth': 1,'antialiased' : True})\n",
    "plt.title('SeniorCitizen');\n",
    "\n",
    "plt.subplot(1,4,3)\n",
    "plt.pie(partner,labels = ['No','Yes'],autopct='%1.1f%%',startangle = 90,explode = (0.1,0),colors = colors,\n",
    "       wedgeprops = {'edgecolor' : 'black','linewidth': 1,'antialiased' : True})\n",
    "plt.title('Partner');\n",
    "\n",
    "plt.subplot(1,4,4)\n",
    "plt.pie(dependents,labels = ['No','Yes'],autopct='%1.1f%%',startangle = 90,explode = (0.1,0),colors = colors,\n",
    "       wedgeprops = {'edgecolor' : 'black','linewidth': 1,'antialiased' : True})\n",
    "plt.title('Dependents');"
   ]
  },
  {
   "cell_type": "code",
   "execution_count": null,
   "id": "87537c9c",
   "metadata": {},
   "outputs": [],
   "source": [
    "phoneservice = df_clean[df_clean['Churn'] == 1]['PhoneService'].value_counts()\n",
    "phoneservice = [phoneservice[0] / sum(phoneservice) * 100, phoneservice[1] / sum(phoneservice) * 100] # No - Yes\n",
    "\n",
    "multiplelines = df_clean[df_clean['Churn'] == 1]['MultipleLines'].value_counts()\n",
    "multiplelines = [multiplelines[0] / sum(multiplelines) * 100,multiplelines[1] / sum(multiplelines) * 100, multiplelines[2] / sum(multiplelines) * 100] # No - No Phone Service - Yes \n",
    "\n",
    "internetservice = df_clean[df_clean['Churn'] == 1]['InternetService'].value_counts()\n",
    "internetservice = [internetservice[0] / sum(internetservice) * 100,internetservice[1] / sum(internetservice) * 100, internetservice[2] / sum(internetservice) * 100] # DSL - Fiber Optic - No \n",
    "\n",
    "streamingtv = df_clean[df_clean['Churn'] == 1]['StreamingTV'].value_counts()\n",
    "streamingtv = [streamingtv[0] / sum(streamingtv) * 100,streamingtv[1] / sum(streamingtv) * 100, streamingtv[2] / sum(streamingtv) * 100] # No - No Internet Service - Yes \n",
    "\n",
    "streamingmovies = df_clean[df_clean['Churn'] == 1]['StreamingMovies'].value_counts()\n",
    "streamingmovies = [streamingmovies[0] / sum(streamingmovies) * 100,streamingmovies[1] / sum(streamingmovies) * 100, streamingmovies[2] / sum(streamingmovies) * 100] # No - No Internet Service - Yes "
   ]
  },
  {
   "cell_type": "code",
   "execution_count": null,
   "id": "da9cdb89",
   "metadata": {},
   "outputs": [],
   "source": [
    "ax,fig = plt.subplots(nrows = 1,ncols = 2,figsize = (8,8))\n",
    "\n",
    "plt.subplot(1,2,1)\n",
    "plt.pie(phoneservice,labels = ['No', 'Yes'],autopct='%1.1f%%',startangle = 90,explode = (0.1,0),colors = colors,\n",
    "       wedgeprops = {'edgecolor' : 'black','linewidth': 1,'antialiased' : True})\n",
    "plt.title('PhoneService');\n",
    "\n",
    "plt.subplot(1,2,2)\n",
    "plt.pie(multiplelines,labels = ['No','No Phone Service','Yes'],autopct='%1.1f%%',startangle = 90,explode = (0.1,0,0.1),colors = colors,\n",
    "       wedgeprops = {'edgecolor' : 'black','linewidth': 1,'antialiased' : True})\n",
    "plt.title('MultipleLines');\n",
    "\n",
    "ax,fig = plt.subplots(nrows = 1,ncols = 3,figsize = (12,12))\n",
    "\n",
    "plt.subplot(1,3,1)\n",
    "plt.pie(internetservice,labels = ['DSL', 'Fiber Optic','No'],autopct='%1.1f%%',startangle = 90,explode = (0.1,0,0.1),colors = colors,\n",
    "       wedgeprops = {'edgecolor' : 'black','linewidth': 1,'antialiased' : True})\n",
    "plt.title('InternetService');\n",
    "\n",
    "plt.subplot(1,3,2)\n",
    "plt.pie(streamingtv,labels = ['No', 'No Internet Service','Yes'],autopct='%1.1f%%',startangle = 90,explode = (0.1,0,0.1),colors = colors,\n",
    "       wedgeprops = {'edgecolor' : 'black','linewidth': 1,'antialiased' : True})\n",
    "plt.title('StreamingTV');\n",
    "\n",
    "plt.subplot(1,3,3)\n",
    "plt.pie(streamingmovies,labels = ['No', 'No Internet Service','Yes'],autopct='%1.1f%%',startangle = 90,explode = (0.1,0,0.1),colors = colors,\n",
    "       wedgeprops = {'edgecolor' : 'black','linewidth': 1,'antialiased' : True})\n",
    "plt.title('StreamingMovies');"
   ]
  },
  {
   "cell_type": "code",
   "execution_count": null,
   "id": "08f8b270",
   "metadata": {},
   "outputs": [],
   "source": [
    "onlinesecurity = df_clean[df_clean['Churn'] == 1]['OnlineSecurity'].value_counts()\n",
    "onlinesecurity = [onlinesecurity[0] / sum(onlinesecurity) * 100,onlinesecurity[1] / sum(onlinesecurity) * 100, onlinesecurity[2] / sum(onlinesecurity) * 100] # No - No Internet Service - Yes \n",
    "\n",
    "onlinebackup = df_clean[df_clean['Churn'] == 1]['OnlineBackup'].value_counts()\n",
    "onlinebackup = [onlinebackup[0] / sum(onlinebackup) * 100,onlinebackup[1] / sum(onlinebackup) * 100, onlinebackup[2] / sum(onlinebackup) * 100] # No - No Internet Service - Yes \n",
    "\n",
    "deviceprotection = df_clean[df_clean['Churn'] == 1]['DeviceProtection'].value_counts()\n",
    "deviceprotection = [deviceprotection[0] / sum(deviceprotection) * 100,deviceprotection[1] / sum(deviceprotection) * 100, deviceprotection[2] / sum(deviceprotection) * 100] # No - No Internet Service - Yes \n",
    "\n",
    "techsupport = df_clean[df_clean['Churn'] == 1]['TechSupport'].value_counts()\n",
    "techsupport = [techsupport[0] / sum(techsupport) * 100,techsupport[1] / sum(techsupport) * 100, techsupport[2] / sum(techsupport) * 100] # No - No Internet Service - Yes "
   ]
  },
  {
   "cell_type": "code",
   "execution_count": null,
   "id": "03434c39",
   "metadata": {},
   "outputs": [],
   "source": [
    "ax,fig = plt.subplots(nrows = 1,ncols = 4,figsize = (15,15))\n",
    "\n",
    "plt.subplot(1,4,1)\n",
    "plt.pie(onlinesecurity,labels = ['No', 'No Internet Service','Yes'],autopct='%1.1f%%',startangle = 90,explode = (0.1,0,0.1),colors = colors,\n",
    "       wedgeprops = {'edgecolor' : 'black','linewidth': 1,'antialiased' : True})\n",
    "plt.title('OnlineSecurity');\n",
    "\n",
    "plt.subplot(1,4,2)\n",
    "plt.pie(onlinebackup,labels = ['No', 'No Internet Service','Yes'],autopct='%1.1f%%',startangle = 90,explode = (0.1,0.1,0),colors = colors,\n",
    "       wedgeprops = {'edgecolor' : 'black','linewidth': 1,'antialiased' : True})\n",
    "plt.title('OnlineBackup');\n",
    "\n",
    "plt.subplot(1,4,3)\n",
    "plt.pie(deviceprotection,labels = ['No', 'No Internet Service','Yes'],autopct='%1.1f%%',startangle = 90,explode = (0.1,0,0.1),colors = colors,\n",
    "       wedgeprops = {'edgecolor' : 'black','linewidth': 1,'antialiased' : True})\n",
    "plt.title('DeviceProtection');\n",
    "\n",
    "plt.subplot(1,4,4)\n",
    "plt.pie(techsupport,labels = ['No', 'No Internet Service','Yes'],autopct='%1.1f%%',startangle = 90,explode = (0.1,0,0.1),colors = colors,\n",
    "       wedgeprops = {'edgecolor' : 'black','linewidth': 1,'antialiased' : True})\n",
    "plt.title('TechSupport');"
   ]
  },
  {
   "cell_type": "code",
   "execution_count": null,
   "id": "0bb18598",
   "metadata": {},
   "outputs": [],
   "source": [
    "contract = df_clean[df_clean['Churn'] == 1]['Contract'].value_counts()\n",
    "contract = [contract[0] / sum(contract) * 100, contract[1] / sum(contract) * 100, contract[2] / sum(contract) * 100] # Month-to-month - One year - Two year\n",
    "\n",
    "paperlessbilling = df_clean[df_clean['Churn'] == 1]['PaperlessBilling'].value_counts()\n",
    "paperlessbilling = [paperlessbilling[0] / sum(paperlessbilling) * 100,paperlessbilling[1] / sum(paperlessbilling) * 100] # No - Yes \n",
    "\n",
    "paymentmethod = df_clean[df_clean['Churn'] == 1]['PaymentMethod'].value_counts()\n",
    "paymentmethod = [paymentmethod[0] / sum(paymentmethod) * 100, paymentmethod[1] / sum(paymentmethod) * 100, \n",
    "            paymentmethod[2] / sum(paymentmethod) * 100, paymentmethod[3] / sum(paymentmethod) * 100] \n",
    "            # Bank Transfer (automatic) - Credit Card (automatic) - Electronic check - Mailed check"
   ]
  },
  {
   "cell_type": "code",
   "execution_count": null,
   "id": "16210675",
   "metadata": {},
   "outputs": [],
   "source": [
    "ax,fig = plt.subplots(nrows = 1,ncols = 3,figsize = (12,12))\n",
    "\n",
    "plt.subplot(1,3,1)\n",
    "plt.pie(contract,labels = ['Month-to-month','One year','Two year'],autopct='%1.1f%%',startangle = 90,explode = (0.1,0.1,0.1),colors = colors,\n",
    "       wedgeprops = {'edgecolor' : 'black','linewidth': 1,'antialiased' : True})\n",
    "plt.title('Contract');\n",
    "\n",
    "plt.subplot(1,3,2)\n",
    "plt.pie(paperlessbilling,labels = ['No', 'Yes'],autopct='%1.1f%%',startangle = 90,explode = (0.1,0),colors = colors,\n",
    "       wedgeprops = {'edgecolor' : 'black','linewidth': 1,'antialiased' : True})\n",
    "plt.title('PaperlessBilling');\n",
    "\n",
    "plt.subplot(1,3,3)\n",
    "plt.pie(paymentmethod,labels = ['Bank Transfer (automatic)','Credit Card (automatic)','Electronic check','Mailed check'],autopct='%1.1f%%',startangle = 90,explode = (0.1,0,0.1,0),colors = colors,\n",
    "       wedgeprops = {'edgecolor' : 'black','linewidth': 1,'antialiased' : True})\n",
    "plt.title('PaymentMethod');"
   ]
  },
  {
   "cell_type": "code",
   "execution_count": null,
   "id": "76df7877",
   "metadata": {},
   "outputs": [],
   "source": [
    "fig, ax = plt.subplots(nrows=1, ncols=3, figsize=(15, 5))\n",
    "for i in range(len(numerical_features)):\n",
    "    plt.subplot(1, 3, i+1)\n",
    "    sns.histplot(df_clean[numerical_features[i]], kde=True, color=colors[0])  \n",
    "    title = 'Distribution: ' + numerical_features[i]\n",
    "    plt.title(title)\n",
    "plt.tight_layout()\n",
    "plt.show()"
   ]
  },
  {
   "cell_type": "code",
   "execution_count": null,
   "id": "9bcee677",
   "metadata": {},
   "outputs": [],
   "source": [
    "fig, ax = plt.subplots(nrows = 3,ncols = 1,figsize = (15,15))\n",
    "for i in range(len(numerical_features)):\n",
    "    plt.subplot(3,1,i+1)\n",
    "    sns.countplot(x = numerical_features[i],data = df_clean,hue = \"Churn\",palette = colors,edgecolor = 'black')\n",
    "    plt.legend(['No Churn','Churn'],loc = 'upper right')\n",
    "    title = numerical_features[i] + ' w.r.t Churn'\n",
    "    plt.title(title);"
   ]
  },
  {
   "cell_type": "code",
   "execution_count": null,
   "id": "6dbea7d1",
   "metadata": {},
   "outputs": [],
   "source": [
    "df_clean['MonthlyCharges_Group'] = [int(i / 5) for i in df_clean['MonthlyCharges']]\n",
    "df_clean['TotalCharges_Group'] = [int(i / 500) for i in df_clean['TotalCharges']]\n",
    "\n",
    "fig, ax = plt.subplots(nrows = 2,ncols = 1,figsize = (20,10))\n",
    "for i in range(len(numerical_features[1:])):\n",
    "    plt.subplot(2,1,i+1)\n",
    "    sns.countplot(x =numerical_features[1 + i]+'_Group',data = df_clean,hue = \"Churn\",palette = colors,edgecolor = 'black')\n",
    "    plt.legend(['No Churn','Churn'],loc = 'upper left')\n",
    "    title = numerical_features[1 + i] + ' w.r.t Churn'\n",
    "    plt.title(title);"
   ]
  },
  {
   "cell_type": "code",
   "execution_count": null,
   "id": "f78110cb",
   "metadata": {},
   "outputs": [],
   "source": [
    "fig = plt.subplots(nrows = 2,ncols = 2,figsize = (15,10))\n",
    "for i in range(4):\n",
    "    plt.subplot(2,2,i+1)\n",
    "    ax = sns.boxplot(x = l1[i],y = 'tenure',data = df,hue = 'Churn',palette = colors);\n",
    "    plt.title('tenure vs ' + l1[i]);"
   ]
  },
  {
   "cell_type": "code",
   "execution_count": null,
   "id": "96791923",
   "metadata": {},
   "outputs": [],
   "source": [
    "fig = plt.subplots(nrows = 1,ncols = 2,figsize = (15,5))\n",
    "\n",
    "for i in range(len(l2[0:2])):\n",
    "    plt.subplot(1,2,i + 1)\n",
    "    ax = sns.boxplot(x = l2[i],y = 'tenure',data = df,hue = 'Churn',palette = colors);\n",
    "    plt.title('tenure vs ' + l2[i]);\n",
    "\n",
    "fig = plt.subplots(nrows = 1, ncols = 1, figsize = (6,5))\n",
    "\n",
    "plt.subplot(1,1,1)\n",
    "ax = sns.boxplot(x = l2[2],y = 'tenure',data = df,hue = 'Churn',palette = colors);\n",
    "plt.title('tenure vs ' + l2[2]);\n",
    "    \n",
    "fig = plt.subplots(nrows = 1,ncols = 2,figsize = (12,5))\n",
    "\n",
    "for i in range(len(l2[3:5])):\n",
    "    plt.subplot(1,2,i + 1)\n",
    "    ax = sns.boxplot(x = l2[i + 3],y = 'tenure',data = df,hue = 'Churn',palette = colors);\n",
    "    plt.title('tenure vs ' + l2[i + 3]);"
   ]
  },
  {
   "cell_type": "code",
   "execution_count": null,
   "id": "dc4bba62",
   "metadata": {},
   "outputs": [],
   "source": [
    "fig = plt.subplots(nrows = 2,ncols = 2,figsize = (20,14))\n",
    "for i in range(len(l2[-4:])):\n",
    "    plt.subplot(2,2,i + 1)\n",
    "    ax = sns.boxplot(x = l2[i - 4],y = 'tenure',data = df,hue = 'Churn',palette = colors);\n",
    "    plt.title('tenure vs ' + l2[i-4]);"
   ]
  },
  {
   "cell_type": "code",
   "execution_count": null,
   "id": "638536b0",
   "metadata": {},
   "outputs": [],
   "source": [
    "fig = plt.subplots(nrows = 1,ncols = 3,figsize = (25,7))\n",
    "for i in range(len(l3)):\n",
    "    plt.subplot(1,3,i + 1)\n",
    "    ax = sns.boxplot(x = l3[i],y = 'tenure',data = df,hue = 'Churn',palette = colors);\n",
    "    plt.title('tenure vs ' + l3[i]);"
   ]
  },
  {
   "cell_type": "code",
   "execution_count": null,
   "id": "305bfc97",
   "metadata": {},
   "outputs": [],
   "source": [
    "fig = plt.subplots(nrows = 2,ncols = 2,figsize = (15,10))\n",
    "for i in range(4):\n",
    "    plt.subplot(2,2,i+1)\n",
    "    ax = sns.boxplot(x = l1[i],y = 'MonthlyCharges',data = df,hue = 'Churn',palette = colors); \n",
    "    plt.title('MonthlyCharges vs ' + l1[i]);"
   ]
  },
  {
   "cell_type": "code",
   "execution_count": null,
   "id": "ba2a5508",
   "metadata": {},
   "outputs": [],
   "source": [
    "fig = plt.subplots(nrows = 1,ncols = 2,figsize = (15,5))\n",
    "\n",
    "for i in range(len(l2[0:2])):\n",
    "    plt.subplot(1,2,i + 1)\n",
    "    ax = sns.boxplot(x = l2[i],y = 'MonthlyCharges',data = df,hue = 'Churn',palette = colors);\n",
    "    plt.title('MonthlyCharges vs ' + l2[i]);\n",
    "\n",
    "fig = plt.subplots(nrows = 1, ncols = 1, figsize = (6,5))\n",
    "\n",
    "plt.subplot(1,1,1)\n",
    "ax = sns.boxplot(x = l2[2],y = 'MonthlyCharges',data = df,hue = 'Churn',palette = colors);\n",
    "plt.title('MonthlyCharges vs ' + l2[2]);\n",
    "    \n",
    "fig = plt.subplots(nrows = 1,ncols = 2,figsize = (12,5))\n",
    "\n",
    "for i in range(len(l2[3:5])):\n",
    "    plt.subplot(1,2,i + 1)\n",
    "    ax = sns.boxplot(x = l2[i + 3],y = 'MonthlyCharges',data = df,hue = 'Churn',palette = colors);\n",
    "    plt.title('MonthlyCharges vs ' + l2[i + 3]);"
   ]
  },
  {
   "cell_type": "code",
   "execution_count": null,
   "id": "e4df724b",
   "metadata": {},
   "outputs": [],
   "source": [
    "fig = plt.subplots(nrows = 2,ncols = 2,figsize = (20,14))\n",
    "for i in range(len(l2[-4:])):\n",
    "    plt.subplot(2,2,i + 1)\n",
    "    ax = sns.boxplot(x = l2[i - 4],y = 'MonthlyCharges',data = df,hue = 'Churn',palette = colors);\n",
    "    plt.title('MonthlyCharges vs ' + l2[i-4]);"
   ]
  },
  {
   "cell_type": "code",
   "execution_count": null,
   "id": "c17c2b32",
   "metadata": {},
   "outputs": [],
   "source": [
    "fig = plt.subplots(nrows = 1,ncols = 3,figsize = (25,7))\n",
    "\n",
    "for i in range(len(l3)):\n",
    "    plt.subplot(1,3,i + 1)\n",
    "    ax = sns.boxplot(x = l3[i],y = 'MonthlyCharges',data = df,hue = 'Churn',palette = colors);\n",
    "    title = 'MonthlyCharges vs ' + l3[i]\n",
    "    plt.title(title);"
   ]
  },
  {
   "cell_type": "code",
   "execution_count": null,
   "id": "682deec4",
   "metadata": {},
   "outputs": [],
   "source": [
    "fig = plt.subplots(nrows = 2,ncols = 2,figsize = (15,10))\n",
    "for i in range(4):\n",
    "    plt.subplot(2,2,i+1)\n",
    "    ax = sns.boxplot(x = l1[i],y = 'TotalCharges',data = df,hue = 'Churn',palette = colors);\n",
    "    plt.title('TotalCharges vs ' + l1[i]);"
   ]
  },
  {
   "cell_type": "code",
   "execution_count": null,
   "id": "10fc6db9",
   "metadata": {},
   "outputs": [],
   "source": [
    "fig = plt.subplots(nrows = 1,ncols = 2,figsize = (15,5))\n",
    "\n",
    "for i in range(len(l2[0:2])):\n",
    "    plt.subplot(1,2,i + 1)\n",
    "    ax = sns.boxplot(x = l2[i],y = 'TotalCharges',data = df,hue = 'Churn',palette = colors);\n",
    "    plt.title('TotalCharges vs ' + l2[i]);\n",
    "\n",
    "fig = plt.subplots(nrows = 1, ncols = 1, figsize = (6,5))\n",
    "\n",
    "plt.subplot(1,1,1)\n",
    "ax = sns.boxplot(x = l2[2],y = 'TotalCharges',data = df,hue = 'Churn',palette = colors);\n",
    "plt.title('TotalCharges vs ' + l2[2]);\n",
    "    \n",
    "fig = plt.subplots(nrows = 1,ncols = 2,figsize = (12,5))\n",
    "\n",
    "for i in range(len(l2[3:5])):\n",
    "    plt.subplot(1,2,i + 1)\n",
    "    ax = sns.boxplot(x = l2[i + 3],y = 'TotalCharges',data = df,hue = 'Churn',palette = colors);\n",
    "    plt.title('TotalCharges vs ' + l2[i + 3]);"
   ]
  },
  {
   "cell_type": "code",
   "execution_count": null,
   "id": "92b8592c",
   "metadata": {},
   "outputs": [],
   "source": [
    "fig = plt.subplots(nrows = 2,ncols = 2,figsize = (20,14))\n",
    "for i in range(len(l2[-4:])):\n",
    "    plt.subplot(2,2,i + 1)\n",
    "    ax = sns.boxplot(x = l2[i - 4],y = 'TotalCharges',data = df,hue = 'Churn',palette = colors);\n",
    "    plt.title('TotalCharges vs ' + l2[i-4]);"
   ]
  },
  {
   "cell_type": "code",
   "execution_count": null,
   "id": "3790c3b0",
   "metadata": {},
   "outputs": [],
   "source": [
    "fig = plt.subplots(nrows = 1,ncols = 3,figsize = (25,7))\n",
    "\n",
    "for i in range(len(l3)):\n",
    "    plt.subplot(1,3,i + 1)\n",
    "    ax = sns.boxplot(x = l3[i],y = 'TotalCharges',data = df,hue = 'Churn',palette = colors);\n",
    "    plt.title('TotalCharges vs ' + l3[i]);"
   ]
  },
  {
   "cell_type": "code",
   "execution_count": null,
   "id": "6f921d17",
   "metadata": {},
   "outputs": [],
   "source": [
    "a = 0\n",
    "fig,ax = plt.subplots(nrows = 3,ncols = 1,figsize = (15,15))\n",
    "for i in range(len(numerical_features)):\n",
    "    for j in range(len(numerical_features)):\n",
    "        if i != j and j > i:\n",
    "            a += 1\n",
    "            plt.subplot(3,1,a)\n",
    "            sns.scatterplot(x = numerical_features[i],y = numerical_features[j],data = df_clean,hue = 'Churn',palette = colors,edgecolor = 'black');\n",
    "            plt.legend(['No Churn','Churn'],loc = 'upper left',)\n",
    "            title = numerical_features[i] + ' vs ' + numerical_features[j]\n",
    "            plt.title(title)"
   ]
  },
  {
   "cell_type": "code",
   "execution_count": null,
   "id": "fd049588",
   "metadata": {},
   "outputs": [],
   "source": [
    "print(\"\\n📝 NEXT STEPS:\")\n",
    "print(\"=\" * 15)\n",
    "print(\"1. ✅ Data Loading & Exploration & Cleaning - COMPLETED\")\n",
    "print(\"2. ✅ Exploratory Data Analysis (EDA) - COMPLETED\")\n",
    "print(\"3. 🔄 Feature Engineering\")\n",
    "\n",
    "# Save the loaded data for next notebook\n",
    "print(\"\\n💾 Saving processed data for next notebook...\")\n",
    "df.to_csv('Telco-Customer-Churn.csv', index=False)\n",
    "print(\"✅ Data saved to 'Telco-Customer-Churn.csv'\")\n",
    "df_clean.to_csv('Telco-Customer-Churn-Cleaned.csv', index=False)\n",
    "print(\"✅ Data saved to 'Telco-Customer-Churn-Cleaned.csv'\")"
   ]
  }
 ],
 "metadata": {
  "kernelspec": {
   "display_name": "Python 3",
   "language": "python",
   "name": "python3"
  },
  "language_info": {
   "codemirror_mode": {
    "name": "ipython",
    "version": 3
   },
   "file_extension": ".py",
   "mimetype": "text/x-python",
   "name": "python",
   "nbconvert_exporter": "python",
   "pygments_lexer": "ipython3",
   "version": "3.10.8"
  }
 },
 "nbformat": 4,
 "nbformat_minor": 5
}
