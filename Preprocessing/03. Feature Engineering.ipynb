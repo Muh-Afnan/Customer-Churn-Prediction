{
 "cells": [
  {
   "cell_type": "code",
   "execution_count": null,
   "id": "d72d3838",
   "metadata": {},
   "outputs": [],
   "source": [
    "import numpy as np\n",
    "import pandas as pd\n",
    "import seaborn as sns\n",
    "import matplotlib.pyplot as plt\n",
    "from sklearn.preprocessing import MinMaxScaler,StandardScaler\n",
    "from sklearn.feature_selection import SelectKBest\n",
    "from sklearn.feature_selection import chi2,mutual_info_classif\n",
    "from sklearn.feature_selection import f_classif"
   ]
  },
  {
   "cell_type": "code",
   "execution_count": null,
   "id": "60ef1c7e",
   "metadata": {},
   "outputs": [],
   "source": [
    "df = pd.read_csv(\"D:\\Machine Learning Projects\\Customer Churn Prediction\\dataset\\Telco-Customer-Churn.csv\")\n",
    "df.head()\n",
    "\n",
    "df_clean = pd.read_csv(\"D:\\Machine Learning Projects\\Customer Churn Prediction\\dataset\\Telco-Customer-Churn-Cleaned.csv\")\n",
    "df_clean.head()"
   ]
  },
  {
   "cell_type": "code",
   "execution_count": null,
   "id": "c370f593",
   "metadata": {},
   "outputs": [],
   "source": [
    "mms = MinMaxScaler() # Normalization\n",
    "ss = StandardScaler() # Standardization\n",
    "\n",
    "colors = ['Orange', \"Black\"]\n",
    "df_clean.drop(columns = ['MonthlyCharges_Group','TotalCharges_Group'], inplace = True)\n",
    "\n",
    "df_clean['tenure'] = mms.fit_transform(df_clean[['tenure']])\n",
    "df_clean['MonthlyCharges'] = mms.fit_transform(df_clean[['MonthlyCharges']])\n",
    "df_clean['TotalCharges'] = mms.fit_transform(df_clean[['TotalCharges']])\n",
    "df_clean.head()"
   ]
  },
  {
   "cell_type": "code",
   "execution_count": null,
   "id": "4a05d78f",
   "metadata": {},
   "outputs": [],
   "source": [
    "plt.figure(figsize = (20,5))\n",
    "sns.heatmap(df_clean.corr(),cmap = colors,annot = True);"
   ]
  },
  {
   "cell_type": "code",
   "execution_count": null,
   "id": "56b7aae5",
   "metadata": {},
   "outputs": [],
   "source": [
    "corr = df_clean.corrwith(df_clean['Churn']).sort_values(ascending = False).to_frame()\n",
    "corr.columns = ['Correlations']\n",
    "plt.subplots(figsize = (5,5))\n",
    "sns.heatmap(corr,annot = True,cmap = colors,linewidths = 0.4,linecolor = 'black');\n",
    "plt.title('Correlation w.r.t Outcome');"
   ]
  },
  {
   "cell_type": "code",
   "execution_count": null,
   "id": "e67c1400",
   "metadata": {},
   "outputs": [],
   "source": [
    "col = list(df_clean.columns)\n",
    "categorical_features = []\n",
    "numerical_features = []\n",
    "for i in col:\n",
    "    if len(df[i].unique()) > 6:\n",
    "        numerical_features.append(i)\n",
    "    else:\n",
    "        categorical_features.append(i)\n",
    "\n",
    "print(\"Categorical Features :\", *categorical_features)\n",
    "print(\"Numerical Features :\" , *numerical_features)"
   ]
  },
  {
   "cell_type": "code",
   "execution_count": null,
   "id": "2c3d6a79",
   "metadata": {},
   "outputs": [],
   "source": [
    "features = df_clean.loc[:,categorical_features]\n",
    "target = df_clean.loc[:,'Churn']\n",
    "\n",
    "best_features = SelectKBest(score_func = chi2,k = 'all')\n",
    "fit = best_features.fit(features,target)\n",
    "\n",
    "featureScores = pd.DataFrame(data = fit.scores_,index = list(features.columns),columns = ['Chi Squared Score']) \n",
    "\n",
    "plt.subplots(figsize = (5,5))\n",
    "sns.heatmap(featureScores.sort_values(ascending = False,by = 'Chi Squared Score'),annot = True,cmap = colors,linewidths = 0.4,linecolor = 'black',fmt = '.2f');\n",
    "plt.title('Selection of Categorical Features');"
   ]
  },
  {
   "cell_type": "code",
   "execution_count": null,
   "id": "19c70063",
   "metadata": {},
   "outputs": [],
   "source": [
    "features = df_clean.loc[:,numerical_features]\n",
    "target = df_clean.loc[:,'Churn']\n",
    "\n",
    "best_features = SelectKBest(score_func = f_classif,k = 'all')\n",
    "fit = best_features.fit(features,target)\n",
    "\n",
    "featureScores = pd.DataFrame(data = fit.scores_,index = list(features.columns),columns = ['ANOVA Score']) \n",
    "\n",
    "plt.subplots(figsize = (5,5))\n",
    "sns.heatmap(featureScores.sort_values(ascending = False,by = 'ANOVA Score'),annot = True,cmap = colors,linewidths = 0.4,linecolor = 'black',fmt = '.2f');\n",
    "plt.title('Selection of Numerical Features');"
   ]
  },
  {
   "cell_type": "code",
   "execution_count": null,
   "id": "dfb3cec6",
   "metadata": {},
   "outputs": [],
   "source": [
    "df_clean.drop(columns = ['PhoneService', 'gender','StreamingTV','StreamingMovies','MultipleLines','InternetService'],inplace = True)\n",
    "df_clean.head()"
   ]
  },
  {
   "cell_type": "code",
   "execution_count": null,
   "id": "2f0d42d2",
   "metadata": {},
   "outputs": [],
   "source": [
    "import imblearn\n",
    "from collections import Counter\n",
    "from imblearn.over_sampling import SMOTE\n",
    "from imblearn.under_sampling import RandomUnderSampler\n",
    "from imblearn.pipeline import Pipeline"
   ]
  },
  {
   "cell_type": "code",
   "execution_count": null,
   "id": "b8e792f1",
   "metadata": {},
   "outputs": [],
   "source": [
    "over = SMOTE(sampling_strategy = 1)\n",
    "\n",
    "f1 = df_clean.iloc[:,:13].values\n",
    "t1 = df_clean.iloc[:,13].values\n",
    "\n",
    "f1, t1 = over.fit_resample(f1, t1)\n",
    "Counter(t1)"
   ]
  },
  {
   "cell_type": "code",
   "execution_count": null,
   "id": "a70610e0",
   "metadata": {},
   "outputs": [],
   "source": [
    "df_clean.head()\n",
    "df_clean.info()"
   ]
  },
  {
   "cell_type": "code",
   "execution_count": null,
   "id": "fdbce22d",
   "metadata": {},
   "outputs": [],
   "source": []
  },
  {
   "cell_type": "code",
   "execution_count": null,
   "id": "e88ca216",
   "metadata": {},
   "outputs": [],
   "source": [
    "print(\"\\n📝 NEXT STEPS:\")\n",
    "print(\"=\" * 15)\n",
    "print(\"1. ✅ Data Loading & Exploration & Cleaning - COMPLETED\")\n",
    "print(\"2. ✅ Exploratory Data Analysis (EDA) - COMPLETED\")\n",
    "print(\"3. ✅ Feature Engineering - COMPLETED\")\n",
    "\n",
    "# Save the loaded data for next notebook\n",
    "print(\"\\n💾 Saving processed data for next notebook...\")\n",
    "df.to_csv('Telco-Customer-Churn.csv', index=False)\n",
    "print(\"✅ Data saved to 'Telco-Customer-Churn.csv'\")\n",
    "df_clean.to_csv('Telco-Customer-Churn-Cleaned.csv', index=False)\n",
    "print(\"✅ Data saved to 'Telco-Customer-Churn-Cleaned.csv'\")"
   ]
  }
 ],
 "metadata": {
  "kernelspec": {
   "display_name": "Python 3",
   "language": "python",
   "name": "python3"
  },
  "language_info": {
   "codemirror_mode": {
    "name": "ipython",
    "version": 3
   },
   "file_extension": ".py",
   "mimetype": "text/x-python",
   "name": "python",
   "nbconvert_exporter": "python",
   "pygments_lexer": "ipython3",
   "version": "3.10.8"
  }
 },
 "nbformat": 4,
 "nbformat_minor": 5
}
