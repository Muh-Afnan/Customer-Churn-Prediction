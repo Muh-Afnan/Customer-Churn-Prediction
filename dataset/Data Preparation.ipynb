{
 "cells": [
  {
   "cell_type": "code",
   "execution_count": null,
   "id": "d72d3838",
   "metadata": {},
   "outputs": [],
   "source": [
    "import numpy as np\n",
    "import pandas as pd\n",
    "import seaborn as sns\n",
    "import matplotlib.pyplot as plt"
   ]
  },
  {
   "cell_type": "code",
   "execution_count": null,
   "id": "60ef1c7e",
   "metadata": {},
   "outputs": [],
   "source": [
    "df = pd.read_csv(\"D:\\Machine Learning Projects\\Customer Churn Prediction\\dataset\\Telco-Customer-Churn.csv\")\n",
    "df.head()"
   ]
  },
  {
   "cell_type": "code",
   "execution_count": null,
   "id": "b7665a94",
   "metadata": {},
   "outputs": [],
   "source": [
    "df.shape"
   ]
  },
  {
   "cell_type": "code",
   "execution_count": null,
   "id": "e7e7cdd4",
   "metadata": {},
   "outputs": [],
   "source": [
    "df.columns"
   ]
  },
  {
   "cell_type": "code",
   "execution_count": null,
   "id": "13de0679",
   "metadata": {},
   "outputs": [],
   "source": [
    "df.info"
   ]
  },
  {
   "cell_type": "code",
   "execution_count": null,
   "id": "99c742ca",
   "metadata": {},
   "outputs": [],
   "source": [
    "df.isnull().sum()"
   ]
  },
  {
   "cell_type": "code",
   "execution_count": null,
   "id": "386d620f",
   "metadata": {},
   "outputs": [],
   "source": [
    "df.duplicated().sum()"
   ]
  },
  {
   "cell_type": "code",
   "execution_count": null,
   "id": "7a25d8e0",
   "metadata": {},
   "outputs": [],
   "source": [
    "df.describe().T"
   ]
  },
  {
   "cell_type": "code",
   "execution_count": null,
   "id": "cd27e6a6",
   "metadata": {},
   "outputs": [],
   "source": [
    "l1= []\n",
    "l2 = []\n",
    "for i in (df['TotalCharges']):\n",
    "    length = len(i.split())\n",
    "    l1.append(length)\n",
    "for i in range(len(l1)):\n",
    "    if l1[i] != 1:\n",
    "        l2.append(i)\n",
    "for i in l2:\n",
    "    df.loc[i,'TotalCharges'] = df.loc[(i-1),'TotalCharges']\n",
    "df['TotalCharges'] = df['TotalCharges'].astype(float)\n",
    "df.drop(columns=['customerID'],inplace = True)"
   ]
  },
  {
   "cell_type": "code",
   "execution_count": null,
   "id": "ea3d04fa",
   "metadata": {},
   "outputs": [],
   "source": [
    "from sklearn.preprocessing import LabelEncoder\n",
    "le = LabelEncoder()\n",
    "\n",
    "df1 = df.copy(deep = True)\n",
    "\n",
    "text_data_features = []\n",
    "for i in list(df.columns):\n",
    "    if i not in list(df.describe().columns):\n",
    "        text_data_features.append(i)\n",
    "print(\"Label Encoder Transformation\")\n",
    "\n",
    "for i in text_data_features:\n",
    "    df1[i] = le.fit_transform(df1[i])\n",
    "    print(i, ' : ',df1[i].unique(),' = ' ,le.inverse_transform(df1[i].unique()))"
   ]
  },
  {
   "cell_type": "code",
   "execution_count": null,
   "id": "e7db4874",
   "metadata": {},
   "outputs": [],
   "source": [
    "df1.describe()"
   ]
  },
  {
   "cell_type": "code",
   "execution_count": null,
   "id": "f2a1bfdb",
   "metadata": {},
   "outputs": [],
   "source": [
    "colors = ['Orange', \"Black\"]\n",
    "churn = df1[df1['Churn']==1].describe().T\n",
    "not_churn = df1[df1['Churn']==0].describe().T\n",
    "\n",
    "fig,ax = plt.subplots(nrows = 1,ncols = 2,figsize = (5,5))\n",
    "plt.subplot(1,2,1)\n",
    "sns.heatmap(churn[['mean']],annot = True,cmap = colors,linewidths = 0.4,linecolor = 'black',cbar = False,fmt = '.2f')\n",
    "plt.title('Churned Customers');\n",
    "\n",
    "plt.subplot(1,2,2)\n",
    "sns.heatmap(not_churn[['mean']],annot = True,cmap = colors,linewidths = 0.4,linecolor = 'black',cbar = False,fmt = '.2f',)\n",
    "plt.title('Not_Churned Customers');\n",
    "fig.tight_layout(pad = 0)"
   ]
  },
  {
   "cell_type": "code",
   "execution_count": null,
   "id": "b60edae5",
   "metadata": {},
   "outputs": [],
   "source": [
    "col = list(df1.columns)\n",
    "categorical_features = []\n",
    "numerical_features = []\n",
    "for i in col:\n",
    "    if len(df[i].unique()) > 6:\n",
    "        numerical_features.append(i)\n",
    "    else:\n",
    "        categorical_features.append(i)\n",
    "\n",
    "print(\"Categorical Features :\", *categorical_features)\n",
    "print(\"Numerical Features :\" , *numerical_features)"
   ]
  },
  {
   "cell_type": "code",
   "execution_count": null,
   "id": "32dd4eec",
   "metadata": {},
   "outputs": [],
   "source": [
    "l = list(df1['Churn'].value_counts())\n",
    "circle = [l[0] / sum(l) * 100,l[1] / sum(l) * 100]\n",
    "\n",
    "fig = plt.subplots(nrows = 1,ncols = 2,figsize = (20,5))\n",
    "plt.subplot(1,2,1)\n",
    "plt.pie(circle,labels = ['Not-Churn Customer','Churn Customer'],autopct = '%1.1f%%',startangle = 90,explode = (0.1,0),colors = colors,\n",
    "       wedgeprops = {'edgecolor' : 'black','linewidth': 1,'antialiased' : True})\n",
    "plt.title('Churn - Not-Churn %');\n",
    "\n",
    "plt.subplot(1,2,2)\n",
    "ax = sns.countplot(x='Churn', data = df, palette = colors,edgecolor = 'black')\n",
    "for rect in ax.patches:\n",
    "    ax.text(rect.get_x() + rect.get_width() / 2, rect.get_height() + 2, rect.get_height(), horizontalalignment='center', fontsize = 11)\n",
    "ax.set_xticklabels(['Not-Churn Customers','Churn Customers'])\n",
    "    \n",
    "plt.title('Number of Churn - Not-Churn Customers');\n",
    "plt.show()"
   ]
  },
  {
   "cell_type": "code",
   "execution_count": null,
   "id": "19a2d22a",
   "metadata": {},
   "outputs": [],
   "source": [
    "categorical_features.remove('Churn')"
   ]
  },
  {
   "cell_type": "code",
   "execution_count": null,
   "id": "841e4cd5",
   "metadata": {},
   "outputs": [],
   "source": [
    "l1 = ['gender','SeniorCitizen','Partner','Dependents'] # Customer Information\n",
    "l2 = ['PhoneService','MultipleLines','InternetService','StreamingTV','StreamingMovies',\n",
    "      'OnlineSecurity','OnlineBackup','DeviceProtection','TechSupport'] # Services Signed Up for!\n",
    "l3 = ['Contract','PaperlessBilling','PaymentMethod'] # Payment Information"
   ]
  },
  {
   "cell_type": "code",
   "execution_count": null,
   "id": "d901536b",
   "metadata": {},
   "outputs": [],
   "source": [
    "fig = plt.subplots(nrows = 2,ncols = 2,figsize = (12,5))\n",
    "for i in range(len(l1)):\n",
    "    plt.subplot(2,2,i+1)\n",
    "    ax = sns.countplot(x=l1[i],data = df,hue = \"Churn\",palette = colors,edgecolor = 'black')\n",
    "    for rect in ax.patches:\n",
    "        ax.text(rect.get_x() + rect.get_width() / 2, rect.get_height() + 2, rect.get_height(), horizontalalignment='center', fontsize = 11)\n",
    "    title = l1[i] + ' vs Churn'\n",
    "    plt.title(title);"
   ]
  },
  {
   "cell_type": "code",
   "execution_count": null,
   "id": "1c34023e",
   "metadata": {},
   "outputs": [],
   "source": [
    "fig = plt.subplots(nrows = 1,ncols = 2,figsize = (12,5))\n",
    "\n",
    "for i in range(len(l2[0:2])):\n",
    "    plt.subplot(1,2,i + 1)\n",
    "    ax = sns.countplot(x=l2[i],data = df,hue = \"Churn\",palette = colors,edgecolor = 'black')\n",
    "    for rect in ax.patches:\n",
    "        ax.text(rect.get_x() + rect.get_width() / 2, rect.get_height() + 2, rect.get_height(), horizontalalignment='center', fontsize = 11)\n",
    "    title = l2[i] + ' vs Churn'\n",
    "    plt.title(title);\n",
    "\n",
    "fig = plt.subplots(nrows = 1, ncols = 1, figsize = (6,5))\n",
    "\n",
    "plt.subplot(1,1,1)\n",
    "ax = sns.countplot(x=l2[2],data = df,hue = \"Churn\",palette = colors,edgecolor = 'black')\n",
    "for rect in ax.patches:\n",
    "    ax.text(rect.get_x() + rect.get_width() / 2, rect.get_height() + 2, rect.get_height(), horizontalalignment='center', fontsize = 11)\n",
    "title = l2[2] + ' vs Churn'\n",
    "plt.title(title);\n",
    "    \n",
    "fig = plt.subplots(nrows = 1,ncols = 2,figsize = (12,5))\n",
    "\n",
    "for i in range(len(l2[3:5])):\n",
    "    plt.subplot(1,2,i + 1)\n",
    "    ax = sns.countplot(x=l2[i + 3],data = df,hue = \"Churn\",palette = colors,edgecolor = 'black')\n",
    "    for rect in ax.patches:\n",
    "        ax.text(rect.get_x() + rect.get_width() / 2, rect.get_height() + 2, rect.get_height(), horizontalalignment='center', fontsize = 11)\n",
    "    title = l2[i + 3] + ' vs Churn'\n",
    "    plt.title(title);"
   ]
  },
  {
   "cell_type": "code",
   "execution_count": null,
   "id": "5d9f6e8a",
   "metadata": {},
   "outputs": [],
   "source": [
    "fig = plt.subplots(nrows = 2,ncols = 2,figsize = (12,10))\n",
    "for i in range(len(l2[-4:])):\n",
    "    plt.subplot(2,2,i + 1)\n",
    "    ax = sns.countplot(x=l2[-4 + i],data = df,hue = \"Churn\",palette = colors,edgecolor = 'black')\n",
    "    for rect in ax.patches:\n",
    "        ax.text(rect.get_x() + rect.get_width() / 2, rect.get_height() + 2, rect.get_height(), horizontalalignment='center', fontsize = 11)\n",
    "    title = l2[-4 + i] + ' vs Churn'\n",
    "    plt.title(title);"
   ]
  },
  {
   "cell_type": "code",
   "execution_count": null,
   "id": "65fc71c4",
   "metadata": {},
   "outputs": [],
   "source": [
    "fig = plt.subplots(nrows = 1,ncols = 3,figsize = (25,7))\n",
    "\n",
    "plt.subplot(1,3,1)\n",
    "ax = sns.countplot(x=l3[0],data = df,hue = \"Churn\",palette = colors,edgecolor = 'black')\n",
    "for rect in ax.patches:\n",
    "    ax.text(rect.get_x() + rect.get_width() / 2, rect.get_height() + 2, rect.get_height(), horizontalalignment='center', fontsize = 11)\n",
    "title = l3[0] + ' vs Churn'\n",
    "plt.title(title);\n",
    "\n",
    "plt.subplot(1,3,2)\n",
    "ax = sns.countplot(x=l3[1],data = df,hue = \"Churn\",palette = colors,edgecolor = 'black')\n",
    "for rect in ax.patches:\n",
    "    ax.text(rect.get_x() + rect.get_width() / 2, rect.get_height() + 2, rect.get_height(), horizontalalignment='center', fontsize = 11)\n",
    "title = l3[1] + ' vs Churn'\n",
    "plt.title(title);\n",
    "\n",
    "plt.subplot(1,3,3)\n",
    "ax = sns.countplot(x=l3[2],data = df,hue = \"Churn\",palette = colors,edgecolor = 'black')\n",
    "for rect in ax.patches:\n",
    "    ax.text(rect.get_x() + rect.get_width() / 2, rect.get_height() + 2, rect.get_height(), horizontalalignment='center', fontsize = 11)\n",
    "title = l3[2] + ' vs Churn'\n",
    "plt.title(title);"
   ]
  },
  {
   "cell_type": "code",
   "execution_count": null,
   "id": "454bba7c",
   "metadata": {},
   "outputs": [],
   "source": [
    "gender = df1[df1['Churn'] == 1]['gender'].value_counts()\n",
    "gender = [gender[0] / sum(gender) * 100, gender[1] / sum(gender) * 100] # Female / Male\n",
    "\n",
    "seniorcitizen = df1[df1['Churn'] == 1]['SeniorCitizen'].value_counts()\n",
    "seniorcitizen = [seniorcitizen[0] / sum(seniorcitizen) * 100,seniorcitizen[1] / sum(seniorcitizen) * 100] # No - Yes\n",
    "\n",
    "partner = df1[df1['Churn'] == 1]['Partner'].value_counts()\n",
    "partner = [partner[0] / sum(partner) * 100,partner[1] / sum(partner) * 100] # No - Yes\n",
    "\n",
    "dependents = df1[df1['Churn'] == 1]['Dependents'].value_counts()\n",
    "dependents = [dependents[0] / sum(dependents) * 100,dependents[1] / sum(dependents) * 100] # No - Yes"
   ]
  },
  {
   "cell_type": "code",
   "execution_count": null,
   "id": "41e20989",
   "metadata": {},
   "outputs": [],
   "source": [
    "ax,fig = plt.subplots(nrows = 1,ncols = 4,figsize = (15,15))\n",
    "\n",
    "plt.subplot(1,4,1)\n",
    "plt.pie(gender,labels = ['Female','Male'],autopct='%1.1f%%',startangle = 90,explode = (0.1,0),colors = colors,\n",
    "       wedgeprops = {'edgecolor' : 'black','linewidth': 1,'antialiased' : True})\n",
    "plt.title('Gender');\n",
    "\n",
    "plt.subplot(1,4,2)\n",
    "plt.pie(seniorcitizen,labels = ['No', 'Yes'],autopct='%1.1f%%',startangle = 90,explode = (0,0.1),colors = colors,\n",
    "       wedgeprops = {'edgecolor' : 'black','linewidth': 1,'antialiased' : True})\n",
    "plt.title('SeniorCitizen');\n",
    "\n",
    "plt.subplot(1,4,3)\n",
    "plt.pie(partner,labels = ['No','Yes'],autopct='%1.1f%%',startangle = 90,explode = (0.1,0),colors = colors,\n",
    "       wedgeprops = {'edgecolor' : 'black','linewidth': 1,'antialiased' : True})\n",
    "plt.title('Partner');\n",
    "\n",
    "plt.subplot(1,4,4)\n",
    "plt.pie(dependents,labels = ['No','Yes'],autopct='%1.1f%%',startangle = 90,explode = (0.1,0),colors = colors,\n",
    "       wedgeprops = {'edgecolor' : 'black','linewidth': 1,'antialiased' : True})\n",
    "plt.title('Dependents');"
   ]
  },
  {
   "cell_type": "code",
   "execution_count": null,
   "id": "87537c9c",
   "metadata": {},
   "outputs": [],
   "source": [
    "phoneservice = df1[df1['Churn'] == 1]['PhoneService'].value_counts()\n",
    "phoneservice = [phoneservice[0] / sum(phoneservice) * 100, phoneservice[1] / sum(phoneservice) * 100] # No - Yes\n",
    "\n",
    "multiplelines = df1[df1['Churn'] == 1]['MultipleLines'].value_counts()\n",
    "multiplelines = [multiplelines[0] / sum(multiplelines) * 100,multiplelines[1] / sum(multiplelines) * 100, multiplelines[2] / sum(multiplelines) * 100] # No - No Phone Service - Yes \n",
    "\n",
    "internetservice = df1[df1['Churn'] == 1]['InternetService'].value_counts()\n",
    "internetservice = [internetservice[0] / sum(internetservice) * 100,internetservice[1] / sum(internetservice) * 100, internetservice[2] / sum(internetservice) * 100] # DSL - Fiber Optic - No \n",
    "\n",
    "streamingtv = df1[df1['Churn'] == 1]['StreamingTV'].value_counts()\n",
    "streamingtv = [streamingtv[0] / sum(streamingtv) * 100,streamingtv[1] / sum(streamingtv) * 100, streamingtv[2] / sum(streamingtv) * 100] # No - No Internet Service - Yes \n",
    "\n",
    "streamingmovies = df1[df1['Churn'] == 1]['StreamingMovies'].value_counts()\n",
    "streamingmovies = [streamingmovies[0] / sum(streamingmovies) * 100,streamingmovies[1] / sum(streamingmovies) * 100, streamingmovies[2] / sum(streamingmovies) * 100] # No - No Internet Service - Yes "
   ]
  },
  {
   "cell_type": "code",
   "execution_count": null,
   "id": "da9cdb89",
   "metadata": {},
   "outputs": [],
   "source": [
    "ax,fig = plt.subplots(nrows = 1,ncols = 2,figsize = (8,8))\n",
    "\n",
    "plt.subplot(1,2,1)\n",
    "plt.pie(phoneservice,labels = ['No', 'Yes'],autopct='%1.1f%%',startangle = 90,explode = (0.1,0),colors = colors,\n",
    "       wedgeprops = {'edgecolor' : 'black','linewidth': 1,'antialiased' : True})\n",
    "plt.title('PhoneService');\n",
    "\n",
    "plt.subplot(1,2,2)\n",
    "plt.pie(multiplelines,labels = ['No','No Phone Service','Yes'],autopct='%1.1f%%',startangle = 90,explode = (0.1,0,0.1),colors = colors,\n",
    "       wedgeprops = {'edgecolor' : 'black','linewidth': 1,'antialiased' : True})\n",
    "plt.title('MultipleLines');\n",
    "\n",
    "ax,fig = plt.subplots(nrows = 1,ncols = 3,figsize = (12,12))\n",
    "\n",
    "plt.subplot(1,3,1)\n",
    "plt.pie(internetservice,labels = ['DSL', 'Fiber Optic','No'],autopct='%1.1f%%',startangle = 90,explode = (0.1,0,0.1),colors = colors,\n",
    "       wedgeprops = {'edgecolor' : 'black','linewidth': 1,'antialiased' : True})\n",
    "plt.title('InternetService');\n",
    "\n",
    "plt.subplot(1,3,2)\n",
    "plt.pie(streamingtv,labels = ['No', 'No Internet Service','Yes'],autopct='%1.1f%%',startangle = 90,explode = (0.1,0,0.1),colors = colors,\n",
    "       wedgeprops = {'edgecolor' : 'black','linewidth': 1,'antialiased' : True})\n",
    "plt.title('StreamingTV');\n",
    "\n",
    "plt.subplot(1,3,3)\n",
    "plt.pie(streamingmovies,labels = ['No', 'No Internet Service','Yes'],autopct='%1.1f%%',startangle = 90,explode = (0.1,0,0.1),colors = colors,\n",
    "       wedgeprops = {'edgecolor' : 'black','linewidth': 1,'antialiased' : True})\n",
    "plt.title('StreamingMovies');"
   ]
  },
  {
   "cell_type": "code",
   "execution_count": null,
   "id": "08f8b270",
   "metadata": {},
   "outputs": [],
   "source": [
    "onlinesecurity = df1[df1['Churn'] == 1]['OnlineSecurity'].value_counts()\n",
    "onlinesecurity = [onlinesecurity[0] / sum(onlinesecurity) * 100,onlinesecurity[1] / sum(onlinesecurity) * 100, onlinesecurity[2] / sum(onlinesecurity) * 100] # No - No Internet Service - Yes \n",
    "\n",
    "onlinebackup = df1[df1['Churn'] == 1]['OnlineBackup'].value_counts()\n",
    "onlinebackup = [onlinebackup[0] / sum(onlinebackup) * 100,onlinebackup[1] / sum(onlinebackup) * 100, onlinebackup[2] / sum(onlinebackup) * 100] # No - No Internet Service - Yes \n",
    "\n",
    "deviceprotection = df1[df1['Churn'] == 1]['DeviceProtection'].value_counts()\n",
    "deviceprotection = [deviceprotection[0] / sum(deviceprotection) * 100,deviceprotection[1] / sum(deviceprotection) * 100, deviceprotection[2] / sum(deviceprotection) * 100] # No - No Internet Service - Yes \n",
    "\n",
    "techsupport = df1[df1['Churn'] == 1]['TechSupport'].value_counts()\n",
    "techsupport = [techsupport[0] / sum(techsupport) * 100,techsupport[1] / sum(techsupport) * 100, techsupport[2] / sum(techsupport) * 100] # No - No Internet Service - Yes "
   ]
  },
  {
   "cell_type": "code",
   "execution_count": null,
   "id": "03434c39",
   "metadata": {},
   "outputs": [],
   "source": [
    "ax,fig = plt.subplots(nrows = 1,ncols = 4,figsize = (15,15))\n",
    "\n",
    "plt.subplot(1,4,1)\n",
    "plt.pie(onlinesecurity,labels = ['No', 'No Internet Service','Yes'],autopct='%1.1f%%',startangle = 90,explode = (0.1,0,0.1),colors = colors,\n",
    "       wedgeprops = {'edgecolor' : 'black','linewidth': 1,'antialiased' : True})\n",
    "plt.title('OnlineSecurity');\n",
    "\n",
    "plt.subplot(1,4,2)\n",
    "plt.pie(onlinebackup,labels = ['No', 'No Internet Service','Yes'],autopct='%1.1f%%',startangle = 90,explode = (0.1,0.1,0),colors = colors,\n",
    "       wedgeprops = {'edgecolor' : 'black','linewidth': 1,'antialiased' : True})\n",
    "plt.title('OnlineBackup');\n",
    "\n",
    "plt.subplot(1,4,3)\n",
    "plt.pie(deviceprotection,labels = ['No', 'No Internet Service','Yes'],autopct='%1.1f%%',startangle = 90,explode = (0.1,0,0.1),colors = colors,\n",
    "       wedgeprops = {'edgecolor' : 'black','linewidth': 1,'antialiased' : True})\n",
    "plt.title('DeviceProtection');\n",
    "\n",
    "plt.subplot(1,4,4)\n",
    "plt.pie(techsupport,labels = ['No', 'No Internet Service','Yes'],autopct='%1.1f%%',startangle = 90,explode = (0.1,0,0.1),colors = colors,\n",
    "       wedgeprops = {'edgecolor' : 'black','linewidth': 1,'antialiased' : True})\n",
    "plt.title('TechSupport');"
   ]
  },
  {
   "cell_type": "code",
   "execution_count": null,
   "id": "0bb18598",
   "metadata": {},
   "outputs": [],
   "source": [
    "contract = df1[df1['Churn'] == 1]['Contract'].value_counts()\n",
    "contract = [contract[0] / sum(contract) * 100, contract[1] / sum(contract) * 100, contract[2] / sum(contract) * 100] # Month-to-month - One year - Two year\n",
    "\n",
    "paperlessbilling = df1[df1['Churn'] == 1]['PaperlessBilling'].value_counts()\n",
    "paperlessbilling = [paperlessbilling[0] / sum(paperlessbilling) * 100,paperlessbilling[1] / sum(paperlessbilling) * 100] # No - Yes \n",
    "\n",
    "paymentmethod = df1[df1['Churn'] == 1]['PaymentMethod'].value_counts()\n",
    "paymentmethod = [paymentmethod[0] / sum(paymentmethod) * 100, paymentmethod[1] / sum(paymentmethod) * 100, \n",
    "            paymentmethod[2] / sum(paymentmethod) * 100, paymentmethod[3] / sum(paymentmethod) * 100] \n",
    "            # Bank Transfer (automatic) - Credit Card (automatic) - Electronic check - Mailed check"
   ]
  },
  {
   "cell_type": "code",
   "execution_count": null,
   "id": "16210675",
   "metadata": {},
   "outputs": [],
   "source": [
    "ax,fig = plt.subplots(nrows = 1,ncols = 3,figsize = (12,12))\n",
    "\n",
    "plt.subplot(1,3,1)\n",
    "plt.pie(contract,labels = ['Month-to-month','One year','Two year'],autopct='%1.1f%%',startangle = 90,explode = (0.1,0.1,0.1),colors = colors,\n",
    "       wedgeprops = {'edgecolor' : 'black','linewidth': 1,'antialiased' : True})\n",
    "plt.title('Contract');\n",
    "\n",
    "plt.subplot(1,3,2)\n",
    "plt.pie(paperlessbilling,labels = ['No', 'Yes'],autopct='%1.1f%%',startangle = 90,explode = (0.1,0),colors = colors,\n",
    "       wedgeprops = {'edgecolor' : 'black','linewidth': 1,'antialiased' : True})\n",
    "plt.title('PaperlessBilling');\n",
    "\n",
    "plt.subplot(1,3,3)\n",
    "plt.pie(paymentmethod,labels = ['Bank Transfer (automatic)','Credit Card (automatic)','Electronic check','Mailed check'],autopct='%1.1f%%',startangle = 90,explode = (0.1,0,0.1,0),colors = colors,\n",
    "       wedgeprops = {'edgecolor' : 'black','linewidth': 1,'antialiased' : True})\n",
    "plt.title('PaymentMethod');"
   ]
  },
  {
   "cell_type": "code",
   "execution_count": null,
   "id": "76df7877",
   "metadata": {},
   "outputs": [],
   "source": [
    "fig, ax = plt.subplots(nrows=1, ncols=3, figsize=(15, 5))\n",
    "for i in range(len(numerical_features)):\n",
    "    plt.subplot(1, 3, i+1)\n",
    "    sns.histplot(df1[numerical_features[i]], kde=True, color=colors[0])  \n",
    "    title = 'Distribution: ' + numerical_features[i]\n",
    "    plt.title(title)\n",
    "plt.tight_layout()\n",
    "plt.show()"
   ]
  },
  {
   "cell_type": "code",
   "execution_count": null,
   "id": "9bcee677",
   "metadata": {},
   "outputs": [],
   "source": [
    "fig, ax = plt.subplots(nrows = 3,ncols = 1,figsize = (15,15))\n",
    "for i in range(len(numerical_features)):\n",
    "    plt.subplot(3,1,i+1)\n",
    "    sns.countplot(x = numerical_features[i],data = df1,hue = \"Churn\",palette = colors,edgecolor = 'black')\n",
    "    plt.legend(['No Churn','Churn'],loc = 'upper right')\n",
    "    title = numerical_features[i] + ' w.r.t Churn'\n",
    "    plt.title(title);"
   ]
  },
  {
   "cell_type": "code",
   "execution_count": null,
   "id": "6dbea7d1",
   "metadata": {},
   "outputs": [],
   "source": [
    "df1['MonthlyCharges_Group'] = [int(i / 5) for i in df1['MonthlyCharges']]\n",
    "df1['TotalCharges_Group'] = [int(i / 500) for i in df1['TotalCharges']]\n",
    "\n",
    "fig, ax = plt.subplots(nrows = 2,ncols = 1,figsize = (20,10))\n",
    "for i in range(len(numerical_features[1:])):\n",
    "    plt.subplot(2,1,i+1)\n",
    "    sns.countplot(x =numerical_features[1 + i]+'_Group',data = df1,hue = \"Churn\",palette = colors,edgecolor = 'black')\n",
    "    plt.legend(['No Churn','Churn'],loc = 'upper left')\n",
    "    title = numerical_features[1 + i] + ' w.r.t Churn'\n",
    "    plt.title(title);"
   ]
  },
  {
   "cell_type": "code",
   "execution_count": null,
   "id": "f78110cb",
   "metadata": {},
   "outputs": [],
   "source": [
    "fig = plt.subplots(nrows = 2,ncols = 2,figsize = (15,10))\n",
    "for i in range(4):\n",
    "    plt.subplot(2,2,i+1)\n",
    "    ax = sns.boxplot(x = l1[i],y = 'tenure',data = df,hue = 'Churn',palette = colors);\n",
    "    plt.title('tenure vs ' + l1[i]);"
   ]
  },
  {
   "cell_type": "code",
   "execution_count": null,
   "id": "96791923",
   "metadata": {},
   "outputs": [],
   "source": [
    "fig = plt.subplots(nrows = 1,ncols = 2,figsize = (15,5))\n",
    "\n",
    "for i in range(len(l2[0:2])):\n",
    "    plt.subplot(1,2,i + 1)\n",
    "    ax = sns.boxplot(x = l2[i],y = 'tenure',data = df,hue = 'Churn',palette = colors);\n",
    "    plt.title('tenure vs ' + l2[i]);\n",
    "\n",
    "fig = plt.subplots(nrows = 1, ncols = 1, figsize = (6,5))\n",
    "\n",
    "plt.subplot(1,1,1)\n",
    "ax = sns.boxplot(x = l2[2],y = 'tenure',data = df,hue = 'Churn',palette = colors);\n",
    "plt.title('tenure vs ' + l2[2]);\n",
    "    \n",
    "fig = plt.subplots(nrows = 1,ncols = 2,figsize = (12,5))\n",
    "\n",
    "for i in range(len(l2[3:5])):\n",
    "    plt.subplot(1,2,i + 1)\n",
    "    ax = sns.boxplot(x = l2[i + 3],y = 'tenure',data = df,hue = 'Churn',palette = colors);\n",
    "    plt.title('tenure vs ' + l2[i + 3]);"
   ]
  },
  {
   "cell_type": "code",
   "execution_count": null,
   "id": "dc4bba62",
   "metadata": {},
   "outputs": [],
   "source": [
    "fig = plt.subplots(nrows = 2,ncols = 2,figsize = (20,14))\n",
    "for i in range(len(l2[-4:])):\n",
    "    plt.subplot(2,2,i + 1)\n",
    "    ax = sns.boxplot(x = l2[i - 4],y = 'tenure',data = df,hue = 'Churn',palette = colors);\n",
    "    plt.title('tenure vs ' + l2[i-4]);"
   ]
  },
  {
   "cell_type": "code",
   "execution_count": null,
   "id": "638536b0",
   "metadata": {},
   "outputs": [],
   "source": [
    "fig = plt.subplots(nrows = 1,ncols = 3,figsize = (25,7))\n",
    "for i in range(len(l3)):\n",
    "    plt.subplot(1,3,i + 1)\n",
    "    ax = sns.boxplot(x = l3[i],y = 'tenure',data = df,hue = 'Churn',palette = colors);\n",
    "    plt.title('tenure vs ' + l3[i]);"
   ]
  },
  {
   "cell_type": "code",
   "execution_count": null,
   "id": "305bfc97",
   "metadata": {},
   "outputs": [],
   "source": [
    "fig = plt.subplots(nrows = 2,ncols = 2,figsize = (15,10))\n",
    "for i in range(4):\n",
    "    plt.subplot(2,2,i+1)\n",
    "    ax = sns.boxplot(x = l1[i],y = 'MonthlyCharges',data = df,hue = 'Churn',palette = colors); \n",
    "    plt.title('MonthlyCharges vs ' + l1[i]);"
   ]
  },
  {
   "cell_type": "code",
   "execution_count": null,
   "id": "ba2a5508",
   "metadata": {},
   "outputs": [],
   "source": [
    "fig = plt.subplots(nrows = 1,ncols = 2,figsize = (15,5))\n",
    "\n",
    "for i in range(len(l2[0:2])):\n",
    "    plt.subplot(1,2,i + 1)\n",
    "    ax = sns.boxplot(x = l2[i],y = 'MonthlyCharges',data = df,hue = 'Churn',palette = colors);\n",
    "    plt.title('MonthlyCharges vs ' + l2[i]);\n",
    "\n",
    "fig = plt.subplots(nrows = 1, ncols = 1, figsize = (6,5))\n",
    "\n",
    "plt.subplot(1,1,1)\n",
    "ax = sns.boxplot(x = l2[2],y = 'MonthlyCharges',data = df,hue = 'Churn',palette = colors);\n",
    "plt.title('MonthlyCharges vs ' + l2[2]);\n",
    "    \n",
    "fig = plt.subplots(nrows = 1,ncols = 2,figsize = (12,5))\n",
    "\n",
    "for i in range(len(l2[3:5])):\n",
    "    plt.subplot(1,2,i + 1)\n",
    "    ax = sns.boxplot(x = l2[i + 3],y = 'MonthlyCharges',data = df,hue = 'Churn',palette = colors);\n",
    "    plt.title('MonthlyCharges vs ' + l2[i + 3]);"
   ]
  },
  {
   "cell_type": "code",
   "execution_count": null,
   "id": "e4df724b",
   "metadata": {},
   "outputs": [],
   "source": [
    "fig = plt.subplots(nrows = 2,ncols = 2,figsize = (20,14))\n",
    "for i in range(len(l2[-4:])):\n",
    "    plt.subplot(2,2,i + 1)\n",
    "    ax = sns.boxplot(x = l2[i - 4],y = 'MonthlyCharges',data = df,hue = 'Churn',palette = colors);\n",
    "    plt.title('MonthlyCharges vs ' + l2[i-4]);"
   ]
  },
  {
   "cell_type": "code",
   "execution_count": null,
   "id": "c17c2b32",
   "metadata": {},
   "outputs": [],
   "source": [
    "fig = plt.subplots(nrows = 1,ncols = 3,figsize = (25,7))\n",
    "\n",
    "for i in range(len(l3)):\n",
    "    plt.subplot(1,3,i + 1)\n",
    "    ax = sns.boxplot(x = l3[i],y = 'MonthlyCharges',data = df,hue = 'Churn',palette = colors);\n",
    "    title = 'MonthlyCharges vs ' + l3[i]\n",
    "    plt.title(title);"
   ]
  },
  {
   "cell_type": "code",
   "execution_count": null,
   "id": "682deec4",
   "metadata": {},
   "outputs": [],
   "source": [
    "fig = plt.subplots(nrows = 2,ncols = 2,figsize = (15,10))\n",
    "for i in range(4):\n",
    "    plt.subplot(2,2,i+1)\n",
    "    ax = sns.boxplot(x = l1[i],y = 'TotalCharges',data = df,hue = 'Churn',palette = colors);\n",
    "    plt.title('TotalCharges vs ' + l1[i]);"
   ]
  },
  {
   "cell_type": "code",
   "execution_count": null,
   "id": "10fc6db9",
   "metadata": {},
   "outputs": [],
   "source": [
    "fig = plt.subplots(nrows = 1,ncols = 2,figsize = (15,5))\n",
    "\n",
    "for i in range(len(l2[0:2])):\n",
    "    plt.subplot(1,2,i + 1)\n",
    "    ax = sns.boxplot(x = l2[i],y = 'TotalCharges',data = df,hue = 'Churn',palette = colors);\n",
    "    plt.title('TotalCharges vs ' + l2[i]);\n",
    "\n",
    "fig = plt.subplots(nrows = 1, ncols = 1, figsize = (6,5))\n",
    "\n",
    "plt.subplot(1,1,1)\n",
    "ax = sns.boxplot(x = l2[2],y = 'TotalCharges',data = df,hue = 'Churn',palette = colors);\n",
    "plt.title('TotalCharges vs ' + l2[2]);\n",
    "    \n",
    "fig = plt.subplots(nrows = 1,ncols = 2,figsize = (12,5))\n",
    "\n",
    "for i in range(len(l2[3:5])):\n",
    "    plt.subplot(1,2,i + 1)\n",
    "    ax = sns.boxplot(x = l2[i + 3],y = 'TotalCharges',data = df,hue = 'Churn',palette = colors);\n",
    "    plt.title('TotalCharges vs ' + l2[i + 3]);"
   ]
  },
  {
   "cell_type": "code",
   "execution_count": null,
   "id": "92b8592c",
   "metadata": {},
   "outputs": [],
   "source": [
    "fig = plt.subplots(nrows = 2,ncols = 2,figsize = (20,14))\n",
    "for i in range(len(l2[-4:])):\n",
    "    plt.subplot(2,2,i + 1)\n",
    "    ax = sns.boxplot(x = l2[i - 4],y = 'TotalCharges',data = df,hue = 'Churn',palette = colors);\n",
    "    plt.title('TotalCharges vs ' + l2[i-4]);"
   ]
  },
  {
   "cell_type": "code",
   "execution_count": null,
   "id": "3790c3b0",
   "metadata": {},
   "outputs": [],
   "source": [
    "fig = plt.subplots(nrows = 1,ncols = 3,figsize = (25,7))\n",
    "\n",
    "for i in range(len(l3)):\n",
    "    plt.subplot(1,3,i + 1)\n",
    "    ax = sns.boxplot(x = l3[i],y = 'TotalCharges',data = df,hue = 'Churn',palette = colors);\n",
    "    plt.title('TotalCharges vs ' + l3[i]);"
   ]
  },
  {
   "cell_type": "code",
   "execution_count": null,
   "id": "6f921d17",
   "metadata": {},
   "outputs": [],
   "source": [
    "a = 0\n",
    "fig,ax = plt.subplots(nrows = 3,ncols = 1,figsize = (15,15))\n",
    "for i in range(len(numerical_features)):\n",
    "    for j in range(len(numerical_features)):\n",
    "        if i != j and j > i:\n",
    "            a += 1\n",
    "            plt.subplot(3,1,a)\n",
    "            sns.scatterplot(x = numerical_features[i],y = numerical_features[j],data = df1,hue = 'Churn',palette = colors,edgecolor = 'black');\n",
    "            plt.legend(['No Churn','Churn'],loc = 'upper left',)\n",
    "            title = numerical_features[i] + ' vs ' + numerical_features[j]\n",
    "            plt.title(title)"
   ]
  },
  {
   "cell_type": "code",
   "execution_count": null,
   "id": "c370f593",
   "metadata": {},
   "outputs": [],
   "source": [
    "from sklearn.preprocessing import MinMaxScaler,StandardScaler\n",
    "mms = MinMaxScaler() # Normalization\n",
    "ss = StandardScaler() # Standardization\n",
    "\n",
    "df1.drop(columns = ['MonthlyCharges_Group','TotalCharges_Group'], inplace = True)\n",
    "\n",
    "df1['tenure'] = mms.fit_transform(df1[['tenure']])\n",
    "df1['MonthlyCharges'] = mms.fit_transform(df1[['MonthlyCharges']])\n",
    "df1['TotalCharges'] = mms.fit_transform(df1[['TotalCharges']])\n",
    "df1.head()"
   ]
  },
  {
   "cell_type": "code",
   "execution_count": null,
   "id": "4a05d78f",
   "metadata": {},
   "outputs": [],
   "source": [
    "plt.figure(figsize = (20,5))\n",
    "sns.heatmap(df1.corr(),cmap = colors,annot = True);"
   ]
  },
  {
   "cell_type": "code",
   "execution_count": null,
   "id": "56b7aae5",
   "metadata": {},
   "outputs": [],
   "source": [
    "corr = df1.corrwith(df1['Churn']).sort_values(ascending = False).to_frame()\n",
    "corr.columns = ['Correlations']\n",
    "plt.subplots(figsize = (5,5))\n",
    "sns.heatmap(corr,annot = True,cmap = colors,linewidths = 0.4,linecolor = 'black');\n",
    "plt.title('Correlation w.r.t Outcome');"
   ]
  },
  {
   "cell_type": "code",
   "execution_count": null,
   "id": "4cdcba73",
   "metadata": {},
   "outputs": [],
   "source": [
    "from sklearn.feature_selection import SelectKBest\n",
    "from sklearn.feature_selection import chi2,mutual_info_classif"
   ]
  },
  {
   "cell_type": "code",
   "execution_count": null,
   "id": "2c3d6a79",
   "metadata": {},
   "outputs": [],
   "source": [
    "features = df1.loc[:,categorical_features]\n",
    "target = df1.loc[:,'Churn']\n",
    "\n",
    "best_features = SelectKBest(score_func = chi2,k = 'all')\n",
    "fit = best_features.fit(features,target)\n",
    "\n",
    "featureScores = pd.DataFrame(data = fit.scores_,index = list(features.columns),columns = ['Chi Squared Score']) \n",
    "\n",
    "plt.subplots(figsize = (5,5))\n",
    "sns.heatmap(featureScores.sort_values(ascending = False,by = 'Chi Squared Score'),annot = True,cmap = colors,linewidths = 0.4,linecolor = 'black',fmt = '.2f');\n",
    "plt.title('Selection of Categorical Features');"
   ]
  },
  {
   "cell_type": "code",
   "execution_count": null,
   "id": "45e490d3",
   "metadata": {},
   "outputs": [],
   "source": [
    "from sklearn.feature_selection import f_classif"
   ]
  },
  {
   "cell_type": "code",
   "execution_count": null,
   "id": "19c70063",
   "metadata": {},
   "outputs": [],
   "source": [
    "features = df1.loc[:,numerical_features]\n",
    "target = df1.loc[:,'Churn']\n",
    "\n",
    "best_features = SelectKBest(score_func = f_classif,k = 'all')\n",
    "fit = best_features.fit(features,target)\n",
    "\n",
    "featureScores = pd.DataFrame(data = fit.scores_,index = list(features.columns),columns = ['ANOVA Score']) \n",
    "\n",
    "plt.subplots(figsize = (5,5))\n",
    "sns.heatmap(featureScores.sort_values(ascending = False,by = 'ANOVA Score'),annot = True,cmap = colors,linewidths = 0.4,linecolor = 'black',fmt = '.2f');\n",
    "plt.title('Selection of Numerical Features');"
   ]
  },
  {
   "cell_type": "code",
   "execution_count": null,
   "id": "dfb3cec6",
   "metadata": {},
   "outputs": [],
   "source": [
    "df1.drop(columns = ['PhoneService', 'gender','StreamingTV','StreamingMovies','MultipleLines','InternetService'],inplace = True)\n",
    "df1.head()"
   ]
  },
  {
   "cell_type": "code",
   "execution_count": null,
   "id": "2f0d42d2",
   "metadata": {},
   "outputs": [],
   "source": [
    "import imblearn\n",
    "from collections import Counter\n",
    "from imblearn.over_sampling import SMOTE\n",
    "from imblearn.under_sampling import RandomUnderSampler\n",
    "from imblearn.pipeline import Pipeline"
   ]
  },
  {
   "cell_type": "code",
   "execution_count": null,
   "id": "b8e792f1",
   "metadata": {},
   "outputs": [],
   "source": [
    "over = SMOTE(sampling_strategy = 1)\n",
    "\n",
    "f1 = df1.iloc[:,:13].values\n",
    "t1 = df1.iloc[:,13].values\n",
    "\n",
    "f1, t1 = over.fit_resample(f1, t1)\n",
    "Counter(t1)"
   ]
  }
 ],
 "metadata": {
  "kernelspec": {
   "display_name": "Python 3",
   "language": "python",
   "name": "python3"
  },
  "language_info": {
   "codemirror_mode": {
    "name": "ipython",
    "version": 3
   },
   "file_extension": ".py",
   "mimetype": "text/x-python",
   "name": "python",
   "nbconvert_exporter": "python",
   "pygments_lexer": "ipython3",
   "version": "3.10.8"
  }
 },
 "nbformat": 4,
 "nbformat_minor": 5
}
