{
 "cells": [
  {
   "cell_type": "markdown",
   "id": "header_cell",
   "metadata": {},
   "source": [
    "# Customer Churn Prediction - Data Loading & Initial Exploration\n",
    "\n",
    "**Project Overview**: Predicting customer churn for a telecommunications company\n",
    "\n",
    "**Author**: Muhammad Afnan\n",
    "\n",
    "**Date**: 11 Jun 2025\n",
    "\n",
    "---\n",
    "\n",
    "## Objective\n",
    "This notebook focuses on:\n",
    "1. Loading the dataset\n",
    "2. Initial data exploration\n",
    "3. Basic data quality assessment\n",
    "4. Understanding data structure and types\n",
    "\n",
    "---"
   ]
  },
  {
   "cell_type": "markdown",
   "id": "imports_header",
   "metadata": {},
   "source": [
    "## 1. Import Required Libraries"
   ]
  },
  {
   "cell_type": "code",
   "execution_count": 1,
   "id": "imports",
   "metadata": {},
   "outputs": [
    {
     "name": "stdout",
     "output_type": "stream",
     "text": [
      "✅ Libraries imported successfully\n"
     ]
    }
   ],
   "source": [
    "# Data manipulation and analysis\n",
    "import pandas as pd\n",
    "import numpy as np\n",
    "\n",
    "# Visualization\n",
    "import matplotlib.pyplot as plt\n",
    "import seaborn as sns\n",
    "\n",
    "# Warnings\n",
    "import warnings\n",
    "warnings.filterwarnings('ignore')\n",
    "\n",
    "# Display options\n",
    "pd.set_option('display.max_columns', None)\n",
    "pd.set_option('display.width', None)\n",
    "pd.set_option('display.max_colwidth', None)\n",
    "\n",
    "# Set style for plots\n",
    "plt.style.use('seaborn-v0_8')\n",
    "sns.set_palette(\"husl\")\n",
    "\n",
    "print(\"✅ Libraries imported successfully\")"
   ]
  },
  {
   "cell_type": "markdown",
   "id": "data_loading_header",
   "metadata": {},
   "source": [
    "## 2. Data Loading"
   ]
  },
  {
   "cell_type": "code",
   "execution_count": 2,
   "id": "data_loading",
   "metadata": {},
   "outputs": [
    {
     "name": "stdout",
     "output_type": "stream",
     "text": [
      "✅ Dataset loaded successfully\n",
      "📊 Dataset shape: (7043, 21)\n"
     ]
    }
   ],
   "source": [
    "# Load the dataset\n",
    "# Note: Update the path according to your local setup\n",
    "DATA_PATH = \"D:\\Machine Learning Projects\\Customer Churn Prediction\\dataset\\Telco-Customer-Churn.csv\"\n",
    "\n",
    "try:\n",
    "    df = pd.read_csv(DATA_PATH)\n",
    "    print(f\"✅ Dataset loaded successfully\")\n",
    "    print(f\"📊 Dataset shape: {df.shape}\")\n",
    "except FileNotFoundError:\n",
    "    print(f\"❌ File not found at {DATA_PATH}\")\n",
    "    print(\"Please update the DATA_PATH variable with the correct path to your dataset\")"
   ]
  },
  {
   "cell_type": "markdown",
   "id": "initial_exploration_header",
   "metadata": {},
   "source": [
    "## 3. Initial Data Exploration"
   ]
  },
  {
   "cell_type": "code",
   "execution_count": 3,
   "id": "first_look",
   "metadata": {},
   "outputs": [
    {
     "name": "stdout",
     "output_type": "stream",
     "text": [
      "📋 First 5 rows of the dataset:\n",
      "==================================================\n"
     ]
    },
    {
     "data": {
      "text/html": [
       "<div>\n",
       "<style scoped>\n",
       "    .dataframe tbody tr th:only-of-type {\n",
       "        vertical-align: middle;\n",
       "    }\n",
       "\n",
       "    .dataframe tbody tr th {\n",
       "        vertical-align: top;\n",
       "    }\n",
       "\n",
       "    .dataframe thead th {\n",
       "        text-align: right;\n",
       "    }\n",
       "</style>\n",
       "<table border=\"1\" class=\"dataframe\">\n",
       "  <thead>\n",
       "    <tr style=\"text-align: right;\">\n",
       "      <th></th>\n",
       "      <th>customerID</th>\n",
       "      <th>gender</th>\n",
       "      <th>SeniorCitizen</th>\n",
       "      <th>Partner</th>\n",
       "      <th>Dependents</th>\n",
       "      <th>tenure</th>\n",
       "      <th>PhoneService</th>\n",
       "      <th>MultipleLines</th>\n",
       "      <th>InternetService</th>\n",
       "      <th>OnlineSecurity</th>\n",
       "      <th>OnlineBackup</th>\n",
       "      <th>DeviceProtection</th>\n",
       "      <th>TechSupport</th>\n",
       "      <th>StreamingTV</th>\n",
       "      <th>StreamingMovies</th>\n",
       "      <th>Contract</th>\n",
       "      <th>PaperlessBilling</th>\n",
       "      <th>PaymentMethod</th>\n",
       "      <th>MonthlyCharges</th>\n",
       "      <th>TotalCharges</th>\n",
       "      <th>Churn</th>\n",
       "    </tr>\n",
       "  </thead>\n",
       "  <tbody>\n",
       "    <tr>\n",
       "      <th>0</th>\n",
       "      <td>7590-VHVEG</td>\n",
       "      <td>Female</td>\n",
       "      <td>0</td>\n",
       "      <td>Yes</td>\n",
       "      <td>No</td>\n",
       "      <td>1</td>\n",
       "      <td>No</td>\n",
       "      <td>No phone service</td>\n",
       "      <td>DSL</td>\n",
       "      <td>No</td>\n",
       "      <td>Yes</td>\n",
       "      <td>No</td>\n",
       "      <td>No</td>\n",
       "      <td>No</td>\n",
       "      <td>No</td>\n",
       "      <td>Month-to-month</td>\n",
       "      <td>Yes</td>\n",
       "      <td>Electronic check</td>\n",
       "      <td>29.85</td>\n",
       "      <td>29.85</td>\n",
       "      <td>No</td>\n",
       "    </tr>\n",
       "    <tr>\n",
       "      <th>1</th>\n",
       "      <td>5575-GNVDE</td>\n",
       "      <td>Male</td>\n",
       "      <td>0</td>\n",
       "      <td>No</td>\n",
       "      <td>No</td>\n",
       "      <td>34</td>\n",
       "      <td>Yes</td>\n",
       "      <td>No</td>\n",
       "      <td>DSL</td>\n",
       "      <td>Yes</td>\n",
       "      <td>No</td>\n",
       "      <td>Yes</td>\n",
       "      <td>No</td>\n",
       "      <td>No</td>\n",
       "      <td>No</td>\n",
       "      <td>One year</td>\n",
       "      <td>No</td>\n",
       "      <td>Mailed check</td>\n",
       "      <td>56.95</td>\n",
       "      <td>1889.5</td>\n",
       "      <td>No</td>\n",
       "    </tr>\n",
       "    <tr>\n",
       "      <th>2</th>\n",
       "      <td>3668-QPYBK</td>\n",
       "      <td>Male</td>\n",
       "      <td>0</td>\n",
       "      <td>No</td>\n",
       "      <td>No</td>\n",
       "      <td>2</td>\n",
       "      <td>Yes</td>\n",
       "      <td>No</td>\n",
       "      <td>DSL</td>\n",
       "      <td>Yes</td>\n",
       "      <td>Yes</td>\n",
       "      <td>No</td>\n",
       "      <td>No</td>\n",
       "      <td>No</td>\n",
       "      <td>No</td>\n",
       "      <td>Month-to-month</td>\n",
       "      <td>Yes</td>\n",
       "      <td>Mailed check</td>\n",
       "      <td>53.85</td>\n",
       "      <td>108.15</td>\n",
       "      <td>Yes</td>\n",
       "    </tr>\n",
       "    <tr>\n",
       "      <th>3</th>\n",
       "      <td>7795-CFOCW</td>\n",
       "      <td>Male</td>\n",
       "      <td>0</td>\n",
       "      <td>No</td>\n",
       "      <td>No</td>\n",
       "      <td>45</td>\n",
       "      <td>No</td>\n",
       "      <td>No phone service</td>\n",
       "      <td>DSL</td>\n",
       "      <td>Yes</td>\n",
       "      <td>No</td>\n",
       "      <td>Yes</td>\n",
       "      <td>Yes</td>\n",
       "      <td>No</td>\n",
       "      <td>No</td>\n",
       "      <td>One year</td>\n",
       "      <td>No</td>\n",
       "      <td>Bank transfer (automatic)</td>\n",
       "      <td>42.30</td>\n",
       "      <td>1840.75</td>\n",
       "      <td>No</td>\n",
       "    </tr>\n",
       "    <tr>\n",
       "      <th>4</th>\n",
       "      <td>9237-HQITU</td>\n",
       "      <td>Female</td>\n",
       "      <td>0</td>\n",
       "      <td>No</td>\n",
       "      <td>No</td>\n",
       "      <td>2</td>\n",
       "      <td>Yes</td>\n",
       "      <td>No</td>\n",
       "      <td>Fiber optic</td>\n",
       "      <td>No</td>\n",
       "      <td>No</td>\n",
       "      <td>No</td>\n",
       "      <td>No</td>\n",
       "      <td>No</td>\n",
       "      <td>No</td>\n",
       "      <td>Month-to-month</td>\n",
       "      <td>Yes</td>\n",
       "      <td>Electronic check</td>\n",
       "      <td>70.70</td>\n",
       "      <td>151.65</td>\n",
       "      <td>Yes</td>\n",
       "    </tr>\n",
       "  </tbody>\n",
       "</table>\n",
       "</div>"
      ],
      "text/plain": [
       "   customerID  gender  SeniorCitizen Partner Dependents  tenure PhoneService  \\\n",
       "0  7590-VHVEG  Female              0     Yes         No       1           No   \n",
       "1  5575-GNVDE    Male              0      No         No      34          Yes   \n",
       "2  3668-QPYBK    Male              0      No         No       2          Yes   \n",
       "3  7795-CFOCW    Male              0      No         No      45           No   \n",
       "4  9237-HQITU  Female              0      No         No       2          Yes   \n",
       "\n",
       "      MultipleLines InternetService OnlineSecurity OnlineBackup  \\\n",
       "0  No phone service             DSL             No          Yes   \n",
       "1                No             DSL            Yes           No   \n",
       "2                No             DSL            Yes          Yes   \n",
       "3  No phone service             DSL            Yes           No   \n",
       "4                No     Fiber optic             No           No   \n",
       "\n",
       "  DeviceProtection TechSupport StreamingTV StreamingMovies        Contract  \\\n",
       "0               No          No          No              No  Month-to-month   \n",
       "1              Yes          No          No              No        One year   \n",
       "2               No          No          No              No  Month-to-month   \n",
       "3              Yes         Yes          No              No        One year   \n",
       "4               No          No          No              No  Month-to-month   \n",
       "\n",
       "  PaperlessBilling              PaymentMethod  MonthlyCharges TotalCharges  \\\n",
       "0              Yes           Electronic check           29.85        29.85   \n",
       "1               No               Mailed check           56.95       1889.5   \n",
       "2              Yes               Mailed check           53.85       108.15   \n",
       "3               No  Bank transfer (automatic)           42.30      1840.75   \n",
       "4              Yes           Electronic check           70.70       151.65   \n",
       "\n",
       "  Churn  \n",
       "0    No  \n",
       "1    No  \n",
       "2   Yes  \n",
       "3    No  \n",
       "4   Yes  "
      ]
     },
     "execution_count": 3,
     "metadata": {},
     "output_type": "execute_result"
    }
   ],
   "source": [
    "# First look at the data\n",
    "print(\"📋 First 5 rows of the dataset:\")\n",
    "print(\"=\" * 50)\n",
    "df.head()"
   ]
  },
  {
   "cell_type": "code",
   "execution_count": 4,
   "id": "dataset_info",
   "metadata": {},
   "outputs": [
    {
     "name": "stdout",
     "output_type": "stream",
     "text": [
      "📈 Dataset Information:\n",
      "==============================\n",
      "Number of rows: 7,043\n",
      "Number of columns: 21\n",
      "\n",
      "Column names:\n",
      " 1. customerID\n",
      " 2. gender\n",
      " 3. SeniorCitizen\n",
      " 4. Partner\n",
      " 5. Dependents\n",
      " 6. tenure\n",
      " 7. PhoneService\n",
      " 8. MultipleLines\n",
      " 9. InternetService\n",
      "10. OnlineSecurity\n",
      "11. OnlineBackup\n",
      "12. DeviceProtection\n",
      "13. TechSupport\n",
      "14. StreamingTV\n",
      "15. StreamingMovies\n",
      "16. Contract\n",
      "17. PaperlessBilling\n",
      "18. PaymentMethod\n",
      "19. MonthlyCharges\n",
      "20. TotalCharges\n",
      "21. Churn\n"
     ]
    }
   ],
   "source": [
    "# Dataset information\n",
    "print(\"📈 Dataset Information:\")\n",
    "print(\"=\" * 30)\n",
    "print(f\"Number of rows: {df.shape[0]:,}\")\n",
    "print(f\"Number of columns: {df.shape[1]}\")\n",
    "print(f\"\\nColumn names:\")\n",
    "for i, col in enumerate(df.columns, 1):\n",
    "    print(f\"{i:2d}. {col}\")"
   ]
  },
  {
   "cell_type": "code",
   "execution_count": 5,
   "id": "data_types",
   "metadata": {},
   "outputs": [
    {
     "name": "stdout",
     "output_type": "stream",
     "text": [
      "🔍 Data Types and Memory Usage:\n",
      "===================================\n",
      "<class 'pandas.core.frame.DataFrame'>\n",
      "RangeIndex: 7043 entries, 0 to 7042\n",
      "Data columns (total 21 columns):\n",
      " #   Column            Non-Null Count  Dtype  \n",
      "---  ------            --------------  -----  \n",
      " 0   customerID        7043 non-null   object \n",
      " 1   gender            7043 non-null   object \n",
      " 2   SeniorCitizen     7043 non-null   int64  \n",
      " 3   Partner           7043 non-null   object \n",
      " 4   Dependents        7043 non-null   object \n",
      " 5   tenure            7043 non-null   int64  \n",
      " 6   PhoneService      7043 non-null   object \n",
      " 7   MultipleLines     7043 non-null   object \n",
      " 8   InternetService   7043 non-null   object \n",
      " 9   OnlineSecurity    7043 non-null   object \n",
      " 10  OnlineBackup      7043 non-null   object \n",
      " 11  DeviceProtection  7043 non-null   object \n",
      " 12  TechSupport       7043 non-null   object \n",
      " 13  StreamingTV       7043 non-null   object \n",
      " 14  StreamingMovies   7043 non-null   object \n",
      " 15  Contract          7043 non-null   object \n",
      " 16  PaperlessBilling  7043 non-null   object \n",
      " 17  PaymentMethod     7043 non-null   object \n",
      " 18  MonthlyCharges    7043 non-null   float64\n",
      " 19  TotalCharges      7043 non-null   object \n",
      " 20  Churn             7043 non-null   object \n",
      "dtypes: float64(1), int64(2), object(18)\n",
      "memory usage: 1.1+ MB\n"
     ]
    }
   ],
   "source": [
    "# Data types and memory usage\n",
    "print(\"🔍 Data Types and Memory Usage:\")\n",
    "print(\"=\" * 35)\n",
    "df.info()"
   ]
  },
  {
   "cell_type": "markdown",
   "id": "data_quality_header",
   "metadata": {},
   "source": [
    "## 4. Data Quality Assessment"
   ]
  },
  {
   "cell_type": "code",
   "execution_count": 6,
   "id": "missing_values",
   "metadata": {},
   "outputs": [
    {
     "name": "stdout",
     "output_type": "stream",
     "text": [
      "🔍 Missing Values Analysis:\n",
      "==============================\n",
      "✅ No missing values found in the dataset\n"
     ]
    }
   ],
   "source": [
    "# Check for missing values\n",
    "print(\"🔍 Missing Values Analysis:\")\n",
    "print(\"=\" * 30)\n",
    "missing_values = df.isnull().sum()\n",
    "missing_percentage = (missing_values / len(df)) * 100\n",
    "\n",
    "missing_df = pd.DataFrame({\n",
    "    'Missing Count': missing_values,\n",
    "    'Missing Percentage': missing_percentage\n",
    "})\n",
    "\n",
    "missing_df = missing_df[missing_df['Missing Count'] > 0].sort_values('Missing Count', ascending=False)\n",
    "\n",
    "if len(missing_df) > 0:\n",
    "    print(missing_df)\n",
    "else:\n",
    "    print(\"✅ No missing values found in the dataset\")"
   ]
  },
  {
   "cell_type": "code",
   "execution_count": 7,
   "id": "duplicates",
   "metadata": {},
   "outputs": [
    {
     "name": "stdout",
     "output_type": "stream",
     "text": [
      "🔍 Duplicate Rows Analysis:\n",
      "==============================\n",
      "Number of duplicate rows: 0\n",
      "✅ No duplicate rows found\n"
     ]
    }
   ],
   "source": [
    "# Check for duplicate rows\n",
    "print(\"🔍 Duplicate Rows Analysis:\")\n",
    "print(\"=\" * 30)\n",
    "duplicate_count = df.duplicated().sum()\n",
    "print(f\"Number of duplicate rows: {duplicate_count}\")\n",
    "\n",
    "if duplicate_count > 0:\n",
    "    print(f\"Percentage of duplicates: {(duplicate_count/len(df))*100:.2f}%\")\n",
    "else:\n",
    "    print(\"✅ No duplicate rows found\")"
   ]
  },
  {
   "cell_type": "code",
   "execution_count": 8,
   "id": "unique_values",
   "metadata": {},
   "outputs": [
    {
     "name": "stdout",
     "output_type": "stream",
     "text": [
      "🔍 Unique Values Analysis:\n",
      "==============================\n",
      "          Column  Unique Values Data Type\n",
      "      customerID           7043    object\n",
      "          gender              2    object\n",
      "   SeniorCitizen              2     int64\n",
      "         Partner              2    object\n",
      "      Dependents              2    object\n",
      "          tenure             73     int64\n",
      "    PhoneService              2    object\n",
      "   MultipleLines              3    object\n",
      " InternetService              3    object\n",
      "  OnlineSecurity              3    object\n",
      "    OnlineBackup              3    object\n",
      "DeviceProtection              3    object\n",
      "     TechSupport              3    object\n",
      "     StreamingTV              3    object\n",
      " StreamingMovies              3    object\n",
      "        Contract              3    object\n",
      "PaperlessBilling              2    object\n",
      "   PaymentMethod              4    object\n",
      "  MonthlyCharges           1585   float64\n",
      "    TotalCharges           6531    object\n",
      "           Churn              2    object\n"
     ]
    }
   ],
   "source": [
    "# Check unique values for each column\n",
    "print(\"🔍 Unique Values Analysis:\")\n",
    "print(\"=\" * 30)\n",
    "unique_values_df = pd.DataFrame({\n",
    "    'Column': df.columns,\n",
    "    'Unique Values': [df[col].nunique() for col in df.columns],\n",
    "    'Data Type': df.dtypes\n",
    "})\n",
    "\n",
    "print(unique_values_df.to_string(index=False))"
   ]
  },
  {
   "cell_type": "markdown",
   "id": "basic_stats_header",
   "metadata": {},
   "source": [
    "## 5. Basic Statistical Summary"
   ]
  },
  {
   "cell_type": "code",
   "execution_count": 9,
   "id": "numerical_summary",
   "metadata": {},
   "outputs": [
    {
     "name": "stdout",
     "output_type": "stream",
     "text": [
      "📊 Statistical Summary (Numerical Columns):\n",
      "================================================================================\n"
     ]
    },
    {
     "data": {
      "text/html": [
       "<div>\n",
       "<style scoped>\n",
       "    .dataframe tbody tr th:only-of-type {\n",
       "        vertical-align: middle;\n",
       "    }\n",
       "\n",
       "    .dataframe tbody tr th {\n",
       "        vertical-align: top;\n",
       "    }\n",
       "\n",
       "    .dataframe thead th {\n",
       "        text-align: right;\n",
       "    }\n",
       "</style>\n",
       "<table border=\"1\" class=\"dataframe\">\n",
       "  <thead>\n",
       "    <tr style=\"text-align: right;\">\n",
       "      <th></th>\n",
       "      <th>count</th>\n",
       "      <th>mean</th>\n",
       "      <th>std</th>\n",
       "      <th>min</th>\n",
       "      <th>25%</th>\n",
       "      <th>50%</th>\n",
       "      <th>75%</th>\n",
       "      <th>max</th>\n",
       "    </tr>\n",
       "  </thead>\n",
       "  <tbody>\n",
       "    <tr>\n",
       "      <th>SeniorCitizen</th>\n",
       "      <td>7043.0</td>\n",
       "      <td>0.162147</td>\n",
       "      <td>0.368612</td>\n",
       "      <td>0.00</td>\n",
       "      <td>0.0</td>\n",
       "      <td>0.00</td>\n",
       "      <td>0.00</td>\n",
       "      <td>1.00</td>\n",
       "    </tr>\n",
       "    <tr>\n",
       "      <th>tenure</th>\n",
       "      <td>7043.0</td>\n",
       "      <td>32.371149</td>\n",
       "      <td>24.559481</td>\n",
       "      <td>0.00</td>\n",
       "      <td>9.0</td>\n",
       "      <td>29.00</td>\n",
       "      <td>55.00</td>\n",
       "      <td>72.00</td>\n",
       "    </tr>\n",
       "    <tr>\n",
       "      <th>MonthlyCharges</th>\n",
       "      <td>7043.0</td>\n",
       "      <td>64.761692</td>\n",
       "      <td>30.090047</td>\n",
       "      <td>18.25</td>\n",
       "      <td>35.5</td>\n",
       "      <td>70.35</td>\n",
       "      <td>89.85</td>\n",
       "      <td>118.75</td>\n",
       "    </tr>\n",
       "  </tbody>\n",
       "</table>\n",
       "</div>"
      ],
      "text/plain": [
       "                 count       mean        std    min   25%    50%    75%  \\\n",
       "SeniorCitizen   7043.0   0.162147   0.368612   0.00   0.0   0.00   0.00   \n",
       "tenure          7043.0  32.371149  24.559481   0.00   9.0  29.00  55.00   \n",
       "MonthlyCharges  7043.0  64.761692  30.090047  18.25  35.5  70.35  89.85   \n",
       "\n",
       "                   max  \n",
       "SeniorCitizen     1.00  \n",
       "tenure           72.00  \n",
       "MonthlyCharges  118.75  "
      ]
     },
     "execution_count": 9,
     "metadata": {},
     "output_type": "execute_result"
    }
   ],
   "source": [
    "# Statistical summary for numerical columns\n",
    "numerical_cols = df.select_dtypes(include=[np.number]).columns.tolist()\n",
    "print(\"📊 Statistical Summary (Numerical Columns):\")\n",
    "print(\"=\" * 80)\n",
    "df.describe().T\n"
   ]
  },
  {
   "cell_type": "code",
   "execution_count": 10,
   "id": "categorical_summary",
   "metadata": {},
   "outputs": [
    {
     "name": "stdout",
     "output_type": "stream",
     "text": [
      "📊 Categorical Columns Analysis:\n",
      "===================================\n",
      "\n",
      "🔸 customerID:\n",
      "customerID\n",
      "3186-AJIEK    1\n",
      "7590-VHVEG    1\n",
      "5575-GNVDE    1\n",
      "8775-CEBBJ    1\n",
      "2823-LKABH    1\n",
      "             ..\n",
      "6713-OKOMC    1\n",
      "1452-KIOVK    1\n",
      "9305-CDSKC    1\n",
      "9237-HQITU    1\n",
      "7795-CFOCW    1\n",
      "Name: count, Length: 7043, dtype: int64\n",
      "Unique values: 7043\n",
      "\n",
      "🔸 gender:\n",
      "gender\n",
      "Male      3555\n",
      "Female    3488\n",
      "Name: count, dtype: int64\n",
      "Unique values: 2\n",
      "\n",
      "🔸 Partner:\n",
      "Partner\n",
      "No     3641\n",
      "Yes    3402\n",
      "Name: count, dtype: int64\n",
      "Unique values: 2\n",
      "\n",
      "🔸 Dependents:\n",
      "Dependents\n",
      "No     4933\n",
      "Yes    2110\n",
      "Name: count, dtype: int64\n",
      "Unique values: 2\n",
      "\n",
      "🔸 PhoneService:\n",
      "PhoneService\n",
      "Yes    6361\n",
      "No      682\n",
      "Name: count, dtype: int64\n",
      "Unique values: 2\n",
      "\n",
      "🔸 MultipleLines:\n",
      "MultipleLines\n",
      "No                  3390\n",
      "Yes                 2971\n",
      "No phone service     682\n",
      "Name: count, dtype: int64\n",
      "Unique values: 3\n",
      "\n",
      "🔸 InternetService:\n",
      "InternetService\n",
      "Fiber optic    3096\n",
      "DSL            2421\n",
      "No             1526\n",
      "Name: count, dtype: int64\n",
      "Unique values: 3\n",
      "\n",
      "🔸 OnlineSecurity:\n",
      "OnlineSecurity\n",
      "No                     3498\n",
      "Yes                    2019\n",
      "No internet service    1526\n",
      "Name: count, dtype: int64\n",
      "Unique values: 3\n",
      "\n",
      "🔸 OnlineBackup:\n",
      "OnlineBackup\n",
      "No                     3088\n",
      "Yes                    2429\n",
      "No internet service    1526\n",
      "Name: count, dtype: int64\n",
      "Unique values: 3\n",
      "\n",
      "🔸 DeviceProtection:\n",
      "DeviceProtection\n",
      "No                     3095\n",
      "Yes                    2422\n",
      "No internet service    1526\n",
      "Name: count, dtype: int64\n",
      "Unique values: 3\n",
      "\n",
      "🔸 TechSupport:\n",
      "TechSupport\n",
      "No                     3473\n",
      "Yes                    2044\n",
      "No internet service    1526\n",
      "Name: count, dtype: int64\n",
      "Unique values: 3\n",
      "\n",
      "🔸 StreamingTV:\n",
      "StreamingTV\n",
      "No                     2810\n",
      "Yes                    2707\n",
      "No internet service    1526\n",
      "Name: count, dtype: int64\n",
      "Unique values: 3\n",
      "\n",
      "🔸 StreamingMovies:\n",
      "StreamingMovies\n",
      "No                     2785\n",
      "Yes                    2732\n",
      "No internet service    1526\n",
      "Name: count, dtype: int64\n",
      "Unique values: 3\n",
      "\n",
      "🔸 Contract:\n",
      "Contract\n",
      "Month-to-month    3875\n",
      "Two year          1695\n",
      "One year          1473\n",
      "Name: count, dtype: int64\n",
      "Unique values: 3\n",
      "\n",
      "🔸 PaperlessBilling:\n",
      "PaperlessBilling\n",
      "Yes    4171\n",
      "No     2872\n",
      "Name: count, dtype: int64\n",
      "Unique values: 2\n",
      "\n",
      "🔸 PaymentMethod:\n",
      "PaymentMethod\n",
      "Electronic check             2365\n",
      "Mailed check                 1612\n",
      "Bank transfer (automatic)    1544\n",
      "Credit card (automatic)      1522\n",
      "Name: count, dtype: int64\n",
      "Unique values: 4\n",
      "\n",
      "🔸 TotalCharges:\n",
      "TotalCharges\n",
      "20.2      11\n",
      "          11\n",
      "19.75      9\n",
      "19.65      8\n",
      "19.9       8\n",
      "          ..\n",
      "1990.5     1\n",
      "7362.9     1\n",
      "346.45     1\n",
      "306.6      1\n",
      "108.15     1\n",
      "Name: count, Length: 6531, dtype: int64\n",
      "Unique values: 6531\n",
      "\n",
      "🔸 Churn:\n",
      "Churn\n",
      "No     5174\n",
      "Yes    1869\n",
      "Name: count, dtype: int64\n",
      "Unique values: 2\n"
     ]
    }
   ],
   "source": [
    "# Summary for categorical columns\n",
    "print(\"📊 Categorical Columns Analysis:\")\n",
    "print(\"=\" * 35)\n",
    "categorical_cols = df.select_dtypes(include=['object']).columns.tolist()\n",
    "\n",
    "for col in categorical_cols:\n",
    "    print(f\"\\n🔸 {col}:\")\n",
    "    value_counts = df[col].value_counts()\n",
    "    print(value_counts)\n",
    "    print(f\"Unique values: {df[col].nunique()}\")"
   ]
  },
  {
   "cell_type": "markdown",
   "id": "target_analysis_header",
   "metadata": {},
   "source": [
    "## 6. Target Variable Analysis"
   ]
  },
  {
   "cell_type": "code",
   "execution_count": 11,
   "id": "target_analysis",
   "metadata": {},
   "outputs": [
    {
     "name": "stdout",
     "output_type": "stream",
     "text": [
      "🎯 Target Variable Analysis (Churn):\n",
      "========================================\n",
      "       Count  Percentage\n",
      "Churn                   \n",
      "No      5174       73.46\n",
      "Yes     1869       26.54\n"
     ]
    },
    {
     "data": {
      "image/png": "[encoded data removed]",
      "text/plain": [
       "<Figure size 1200x500 with 2 Axes>"
      ]
     },
     "metadata": {},
     "output_type": "display_data"
    },
    {
     "name": "stdout",
     "output_type": "stream",
     "text": [
      "\n",
      "⚠️ Class imbalance detected! Minority class: 26.5%\n",
      "Consider using sampling techniques during model training.\n"
     ]
    }
   ],
   "source": [
    "# Analyze the target variable (Churn)\n",
    "print(\"🎯 Target Variable Analysis (Churn):\")\n",
    "print(\"=\" * 40)\n",
    "\n",
    "if 'Churn' in df.columns:\n",
    "    churn_counts = df['Churn'].value_counts()\n",
    "    churn_percentages = df['Churn'].value_counts(normalize=True) * 100\n",
    "    \n",
    "    target_summary = pd.DataFrame({\n",
    "        'Count': churn_counts,\n",
    "        'Percentage': churn_percentages.round(2)\n",
    "    })\n",
    "    \n",
    "    print(target_summary)\n",
    "    \n",
    "    # Visualization\n",
    "    fig, (ax1, ax2) = plt.subplots(1, 2, figsize=(12, 5))\n",
    "    \n",
    "    # Count plot\n",
    "    churn_counts.plot(kind='bar', ax=ax1, color=['skyblue', 'salmon'])\n",
    "    ax1.set_title('Churn Distribution (Count)', fontsize=14, fontweight='bold')\n",
    "    ax1.set_xlabel('Churn')\n",
    "    ax1.set_ylabel('Count')\n",
    "    ax1.tick_params(axis='x', rotation=0)\n",
    "    \n",
    "    # Add value labels on bars\n",
    "    for i, v in enumerate(churn_counts.values):\n",
    "        ax1.text(i, v + 50, str(v), ha='center', va='bottom', fontweight='bold')\n",
    "    \n",
    "    # Pie chart\n",
    "    ax2.pie(churn_counts.values, labels=churn_counts.index, autopct='%1.1f%%', \n",
    "            colors=['skyblue', 'salmon'], startangle=90)\n",
    "    ax2.set_title('Churn Distribution (Percentage)', fontsize=14, fontweight='bold')\n",
    "    \n",
    "    plt.tight_layout()\n",
    "    plt.show()\n",
    "    \n",
    "    # Class imbalance check\n",
    "    minority_class_pct = min(churn_percentages)\n",
    "    if minority_class_pct < 30:\n",
    "        print(f\"\\n⚠️ Class imbalance detected! Minority class: {minority_class_pct:.1f}%\")\n",
    "        print(\"Consider using sampling techniques during model training.\")\n",
    "    else:\n",
    "        print(f\"\\n✅ Balanced dataset. Minority class: {minority_class_pct:.1f}%\")\n",
    "else:\n",
    "    print(\"❌ 'Churn' column not found in the dataset\")"
   ]
  },
  {
   "cell_type": "markdown",
   "id": "2bd6c9f8",
   "metadata": {},
   "source": [
    "## 7. Data Cleaning"
   ]
  },
  {
   "cell_type": "code",
   "execution_count": 12,
   "id": "42404c93",
   "metadata": {},
   "outputs": [
    {
     "name": "stdout",
     "output_type": "stream",
     "text": [
      "🧹 Cleaning TotalCharges column:\n",
      "===================================\n",
      "✅ TotalCharges cleaning completed\n"
     ]
    }
   ],
   "source": [
    "# Clean TotalCharges column\n",
    "print(\"🧹 Cleaning TotalCharges column:\")\n",
    "print(\"=\" * 35)\n",
    "l1= []\n",
    "l2 = []\n",
    "for i in (df['TotalCharges']):\n",
    "    length = len(i.split())\n",
    "    l1.append(length)\n",
    "for i in range(len(l1)):\n",
    "    if l1[i] != 1:\n",
    "        l2.append(i)\n",
    "for i in l2:\n",
    "    df.loc[i,'TotalCharges'] = df.loc[(i-1),'TotalCharges']\n",
    "df['TotalCharges'] = df['TotalCharges'].astype(float)\n",
    "print(f\"✅ TotalCharges cleaning completed\")"
   ]
  },
  {
   "cell_type": "code",
   "execution_count": 13,
   "id": "ca16550b",
   "metadata": {},
   "outputs": [
    {
     "name": "stdout",
     "output_type": "stream",
     "text": [
      "📋 Working with a copy of the data\n"
     ]
    }
   ],
   "source": [
    "# Create a copy for processing\n",
    "df_clean = df.copy()\n",
    "print(f\"📋 Working with a copy of the data\")"
   ]
  },
  {
   "cell_type": "code",
   "execution_count": 14,
   "id": "8db71135",
   "metadata": {},
   "outputs": [
    {
     "name": "stdout",
     "output_type": "stream",
     "text": [
      "🗑️ Removing CustomerID column:\n",
      "==============================\n",
      "CustomerID samples: ['7590-VHVEG', '5575-GNVDE', '3668-QPYBK', '7795-CFOCW', '9237-HQITU']\n",
      "✅ CustomerID column removed\n",
      "New dataset shape: (7043, 20)\n"
     ]
    }
   ],
   "source": [
    "# Remove CustomerID as it's not useful for prediction\n",
    "print(\"🗑️ Removing CustomerID column:\")\n",
    "print(\"=\" * 30)\n",
    "\n",
    "if 'customerID' in df_clean.columns:\n",
    "    print(f\"CustomerID samples: {df_clean['customerID'].head().tolist()}\")\n",
    "    df_clean = df_clean.drop(columns=['customerID'])\n",
    "    print(\"✅ CustomerID column removed\")\n",
    "else:\n",
    "    print(\"ℹ️ CustomerID column not found\")\n",
    "\n",
    "print(f\"New dataset shape: {df_clean.shape}\")"
   ]
  },
  {
   "cell_type": "markdown",
   "id": "a5a42aa5",
   "metadata": {},
   "source": [
    "## 8. Label Encoding"
   ]
  },
  {
   "cell_type": "code",
   "execution_count": 15,
   "id": "c5779657",
   "metadata": {},
   "outputs": [
    {
     "name": "stdout",
     "output_type": "stream",
     "text": [
      "Label Encoder Transformation\n",
      "gender  :  [0 1]  =  ['Female' 'Male']\n",
      "Partner  :  [1 0]  =  ['Yes' 'No']\n",
      "Dependents  :  [0 1]  =  ['No' 'Yes']\n",
      "PhoneService  :  [0 1]  =  ['No' 'Yes']\n",
      "MultipleLines  :  [1 0 2]  =  ['No phone service' 'No' 'Yes']\n",
      "InternetService  :  [0 1 2]  =  ['DSL' 'Fiber optic' 'No']\n",
      "OnlineSecurity  :  [0 2 1]  =  ['No' 'Yes' 'No internet service']\n",
      "OnlineBackup  :  [2 0 1]  =  ['Yes' 'No' 'No internet service']\n",
      "DeviceProtection  :  [0 2 1]  =  ['No' 'Yes' 'No internet service']\n",
      "TechSupport  :  [0 2 1]  =  ['No' 'Yes' 'No internet service']\n",
      "StreamingTV  :  [0 2 1]  =  ['No' 'Yes' 'No internet service']\n",
      "StreamingMovies  :  [0 2 1]  =  ['No' 'Yes' 'No internet service']\n",
      "Contract  :  [0 1 2]  =  ['Month-to-month' 'One year' 'Two year']\n",
      "PaperlessBilling  :  [1 0]  =  ['Yes' 'No']\n",
      "PaymentMethod  :  [2 3 0 1]  =  ['Electronic check' 'Mailed check' 'Bank transfer (automatic)'\n",
      " 'Credit card (automatic)']\n",
      "Churn  :  [0 1]  =  ['No' 'Yes']\n"
     ]
    }
   ],
   "source": [
    "from sklearn.preprocessing import LabelEncoder\n",
    "le = LabelEncoder()\n",
    "\n",
    "text_data_features = []\n",
    "for i in list(df_clean.columns):\n",
    "    if i not in list(df.describe().columns):\n",
    "        text_data_features.append(i)\n",
    "print(\"Label Encoder Transformation\")\n",
    "\n",
    "for i in text_data_features:\n",
    "    df_clean[i] = le.fit_transform(df_clean[i])\n",
    "    print(i, ' : ',df_clean[i].unique(),' = ' ,le.inverse_transform(df_clean[i].unique()))"
   ]
  },
  {
   "cell_type": "code",
   "execution_count": 16,
   "id": "a72a2483",
   "metadata": {},
   "outputs": [
    {
     "data": {
      "image/png": "[encoded data removed]",
      "text/plain": [
       "<Figure size 500x500 with 2 Axes>"
      ]
     },
     "metadata": {},
     "output_type": "display_data"
    }
   ],
   "source": [
    "colors = ['Orange', \"Black\"]\n",
    "churn = df_clean[df_clean['Churn']==1].describe().T\n",
    "not_churn = df_clean[df_clean['Churn']==0].describe().T\n",
    "\n",
    "fig,ax = plt.subplots(nrows = 1,ncols = 2,figsize = (5,5))\n",
    "plt.subplot(1,2,1)\n",
    "sns.heatmap(churn[['mean']],annot = True,cmap = colors,linewidths = 0.4,linecolor = 'black',cbar = False,fmt = '.2f')\n",
    "plt.title('Churned Customers');\n",
    "\n",
    "plt.subplot(1,2,2)\n",
    "sns.heatmap(not_churn[['mean']],annot = True,cmap = colors,linewidths = 0.4,linecolor = 'black',cbar = False,fmt = '.2f',)\n",
    "plt.title('Not_Churned Customers');\n",
    "fig.tight_layout(pad = 0)"
   ]
  },
  {
   "cell_type": "markdown",
   "id": "summary_header",
   "metadata": {},
   "source": [
    "## 7. Summary & Next Steps"
   ]
  },
  {
   "cell_type": "code",
   "execution_count": 18,
   "id": "summary",
   "metadata": {},
   "outputs": [
    {
     "name": "stdout",
     "output_type": "stream",
     "text": [
      "📋 DATA EXPLORATION SUMMARY\n",
      "==================================================\n",
      "Dataset Shape: (7043, 21)\n",
      "Missing Values: 0\n",
      "Duplicate Rows: 0\n",
      "Numerical Columns: 3\n",
      "Categorical Columns: 18\n",
      "Churn Rate: 26.5%\n",
      "\n",
      "📝 NEXT STEPS:\n",
      "===============\n",
      "1. ✅ Data Loading & Exploration & Cleaning - COMPLETED\n",
      "2. 🔄 Exploratory Data Analysis (EDA)\n",
      "3. 🔄 Feature Engineering\n",
      "\n",
      "💾 Saving processed data for next notebook...\n",
      "✅ Data saved to 'Telco-Customer-Churn.csv'\n",
      "✅ Data saved to 'Telco-Customer-Churn_Cleaned.csv'\n"
     ]
    }
   ],
   "source": [
    "print(\"📋 DATA EXPLORATION SUMMARY\")\n",
    "print(\"=\" * 50)\n",
    "print(f\"Dataset Shape: {df.shape}\")\n",
    "print(f\"Missing Values: {df.isnull().sum().sum()}\")\n",
    "print(f\"Duplicate Rows: {df.duplicated().sum()}\")\n",
    "print(f\"Numerical Columns: {len(numerical_cols)}\")\n",
    "print(f\"Categorical Columns: {len(categorical_cols)}\")\n",
    "\n",
    "if 'Churn' in df.columns:\n",
    "    churn_rate = (df['Churn'] == 'Yes').mean() * 100\n",
    "    print(f\"Churn Rate: {churn_rate:.1f}%\")\n",
    "\n",
    "print(\"\\n📝 NEXT STEPS:\")\n",
    "print(\"=\" * 15)\n",
    "print(\"1. ✅ Data Loading & Exploration & Cleaning - COMPLETED\")\n",
    "print(\"2. 🔄 Exploratory Data Analysis (EDA)\")\n",
    "print(\"3. 🔄 Feature Engineering\")\n",
    "\n",
    "# Save the loaded data for next notebook\n",
    "print(\"\\n💾 Saving processed data for next notebook...\")\n",
    "df.to_csv('Telco-Customer-Churn.csv', index=False)\n",
    "print(\"✅ Data saved to 'Telco-Customer-Churn.csv'\")\n",
    "df_clean.to_csv('Telco-Customer-Churn_Cleaned.csv', index=False)\n",
    "print(\"✅ Data saved to 'Telco-Customer-Churn_Cleaned.csv'\")"
   ]
  },
  {
   "cell_type": "code",
   "execution_count": null,
   "id": "b4aa76e7",
   "metadata": {},
   "outputs": [],
   "source": []
  }
 ],
 "metadata": {
  "kernelspec": {
   "display_name": "Python 3",
   "language": "python",
   "name": "python3"
  },
  "language_info": {
   "codemirror_mode": {
    "name": "ipython",
    "version": 3
   },
   "file_extension": ".py",
   "mimetype": "text/x-python",
   "name": "python",
   "nbconvert_exporter": "python",
   "pygments_lexer": "ipython3",
   "version": "3.10.8"
  }
 },
 "nbformat": 4,
 "nbformat_minor": 5
}
